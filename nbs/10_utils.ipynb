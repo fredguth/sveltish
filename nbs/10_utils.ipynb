{
 "cells": [
  {
   "attachments": {},
   "cell_type": "markdown",
   "metadata": {},
   "source": [
    "# util\n",
    "\n",
    "> Utility functions"
   ]
  },
  {
   "cell_type": "code",
   "execution_count": 1,
   "metadata": {},
   "outputs": [],
   "source": [
    "#| default_exp util"
   ]
  },
  {
   "cell_type": "code",
   "execution_count": 2,
   "metadata": {},
   "outputs": [],
   "source": [
    "#| hide\n",
    "from nbdev.showdoc import *\n",
    "from fastcore.test import *"
   ]
  },
  {
   "cell_type": "code",
   "execution_count": 3,
   "metadata": {},
   "outputs": [],
   "source": [
    "#| export\n",
    "def safe_not_equal(a,b):\n",
    "    \"Check if `a` is not equal to `b`\"\n",
    "    primitive = (int, str, bool, frozenset, tuple)\n",
    "    return (a != b) if isinstance(a, primitive) else True"
   ]
  },
  {
   "cell_type": "code",
   "execution_count": 4,
   "metadata": {},
   "outputs": [],
   "source": [
    "#|hide\n",
    "test_eq(safe_not_equal(1,2), True)\n",
    "test_eq(safe_not_equal(0,False), False)\n",
    "test_eq(safe_not_equal(object(), object()), True)\n",
    "\n",
    "test_eq(safe_not_equal({\"a\":1}, {\"a\":1}), True)"
   ]
  },
  {
   "cell_type": "code",
   "execution_count": 5,
   "metadata": {},
   "outputs": [],
   "source": [
    "#|export\n",
    "from functools import reduce\n",
    "from typing import Callable, TypeVar,  Generic, Union, Optional, Set, Protocol, Any\n",
    "from typing_extensions import Annotated"
   ]
  },
  {
   "cell_type": "code",
   "execution_count": 6,
   "metadata": {},
   "outputs": [],
   "source": [
    "#| export\n",
    "def compose(*functions: Callable[[Any], Any]) -> Callable[[Any], Any]:\n",
    "    \"\"\"Compose multiple functions left to right.\n",
    "\n",
    "    Examples:\n",
    "        >>> compose()(x) == x\n",
    "        >>> compose(f)(x) == f(x)\n",
    "        >>> compose(f, g)(x) == g(f(x))\n",
    "        >>> compose(f, g, h)(x) == h(g(f(x)))\n",
    "        ...\n",
    "    Returns:\n",
    "        The composed function.\n",
    "    \"\"\"\n",
    "\n",
    "    def _compose(x: Any) -> Any:\n",
    "        return reduce(lambda v, f: f(v), functions, x)\n",
    "\n",
    "    return _compose"
   ]
  },
  {
   "cell_type": "code",
   "execution_count": 7,
   "metadata": {},
   "outputs": [],
   "source": [
    "x = 1\n",
    "test_eq(compose()(x), 1)"
   ]
  },
  {
   "cell_type": "code",
   "execution_count": 8,
   "metadata": {},
   "outputs": [],
   "source": [
    "add2 = lambda x: x+2\n",
    "mul5 = lambda x: x*5\n",
    "test_eq(compose(add2)(x), 3)\n",
    "test_eq(compose(add2, mul5)(x), 15)"
   ]
  },
  {
   "cell_type": "code",
   "execution_count": 9,
   "metadata": {},
   "outputs": [],
   "source": [
    "#|hide\n",
    "#`retrieve_name` not used in the current version of the library. So, I am not exporting:\n",
    "import inspect"
   ]
  },
  {
   "cell_type": "code",
   "execution_count": 10,
   "metadata": {},
   "outputs": [],
   "source": [
    "#|hide\n",
    "def retrieve_name(var): # From: https://stackoverflow.com/a/40536047/1344369\n",
    "        \"\"\"\n",
    "        Gets the name of var. Does it from the out most frame inner-wards.\n",
    "        :param var: variable to get name from.\n",
    "        :return: string\n",
    "        \"\"\"\n",
    "        for fi in reversed(inspect.stack()):\n",
    "            names = [var_name for var_name, var_val in fi.frame.f_locals.items() if var_val is var]\n",
    "            if len(names) > 0:\n",
    "                return names[0]"
   ]
  },
  {
   "cell_type": "code",
   "execution_count": 11,
   "metadata": {},
   "outputs": [],
   "source": [
    "#|hide\n",
    "a = list([1,2,3])\n",
    "retrieve_name(a)\n",
    "test_eq(retrieve_name(a), 'a')\n",
    "b = lambda x: x\n",
    "test_eq(retrieve_name(b), 'b')"
   ]
  },
  {
   "cell_type": "code",
   "execution_count": 12,
   "metadata": {},
   "outputs": [],
   "source": [
    "#| hide\n",
    "import nbdev; nbdev.nbdev_export()"
   ]
  },
  {
   "cell_type": "code",
   "execution_count": null,
   "metadata": {},
   "outputs": [],
   "source": []
  }
 ],
 "metadata": {
  "kernelspec": {
   "display_name": "python3",
   "language": "python",
   "name": "python3"
  },
  "language_info": {
   "codemirror_mode": {
    "name": "ipython",
    "version": 3
   },
   "file_extension": ".py",
   "mimetype": "text/x-python",
   "name": "python",
   "nbconvert_exporter": "python",
   "pygments_lexer": "ipython3",
   "version": "3.9.15"
  }
 },
 "nbformat": 4,
 "nbformat_minor": 4
}
