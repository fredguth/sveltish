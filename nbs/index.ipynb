{
 "cells": [
  {
   "attachments": {},
   "cell_type": "markdown",
   "metadata": {},
   "source": [
    "# Sveltish\n",
    "> A Python package that ~~kind of~~ implements Svelte Stores.\n"
   ]
  },
  {
   "attachments": {},
   "cell_type": "markdown",
   "metadata": {},
   "source": [
    "`Svelte Stores` are one of the secret weapons of the [Svelte framework](https://svelte.dev/) (the recently voted [most loved web framework](https://insights.stackoverflow.com/survey/2021#section-most-loved-dreaded-and-wanted-web-frameworks)). \n",
    "\n",
    "Stores allow easy [reactive programming](https://en.wikipedia.org/wiki/Reactive_programming) by presenting an [Observer pattern](https://en.wikipedia.org/wiki/Observer_pattern) that is as simple as necessary, but not simpler."
   ]
  },
  {
   "cell_type": "markdown",
   "metadata": {},
   "source": [
    "## Install"
   ]
  },
  {
   "attachments": {},
   "cell_type": "markdown",
   "metadata": {},
   "source": [
    "```sh\n",
    "pip install sveltish\n",
    "```"
   ]
  },
  {
   "cell_type": "markdown",
   "metadata": {},
   "source": [
    "## How to use"
   ]
  },
  {
   "attachments": {},
   "cell_type": "markdown",
   "metadata": {},
   "source": [
    "Sometimes, you'll have values that need to be accessed by multiple unrelated objects.\n",
    "\n",
    "For that, you can use `stores`.  It is a very simple implementation (around 100 lines of code) of the Observer/Observable pattern. \n",
    "\n",
    "A store is simply an object with a `subscribe` method that allows interested parties to be notified when its value changes. "
   ]
  },
  {
   "attachments": {},
   "cell_type": "markdown",
   "metadata": {},
   "source": [
    "#### __Writable Stores__ "
   ]
  },
  {
   "cell_type": "code",
   "execution_count": 1,
   "metadata": {},
   "outputs": [],
   "source": [
    "from sveltish.stores import Writable"
   ]
  },
  {
   "cell_type": "code",
   "execution_count": 2,
   "metadata": {},
   "outputs": [],
   "source": [
    "#|hide\n",
    "from nbdev import show_doc\n",
    "from fastcore.test import test_eq, test_fail"
   ]
  },
  {
   "cell_type": "code",
   "execution_count": 3,
   "metadata": {},
   "outputs": [
    {
     "data": {
      "text/markdown": [
       "---\n",
       "\n",
       "[source](https://github.com/fredguth/sveltish/blob/main/sveltish/stores.py#LNone){target=\"_blank\" style=\"float:right; font-size:smaller\"}\n",
       "\n",
       "### Writable\n",
       "\n",
       ">      Writable (initial_value:Any=None, start:Notifier=<function <lambda>>)\n",
       "\n",
       "A Writable Store.\n",
       "\n",
       "|    | **Type** | **Default** | **Details** |\n",
       "| -- | -------- | ----------- | ----------- |\n",
       "| initial_value | Any | None | initial value of the store |\n",
       "| start | Notifier | <lambda> | A Notifier (Optional) |\n",
       "| **Returns** | **None** |  |  |"
      ],
      "text/plain": [
       "---\n",
       "\n",
       "[source](https://github.com/fredguth/sveltish/blob/main/sveltish/stores.py#LNone){target=\"_blank\" style=\"float:right; font-size:smaller\"}\n",
       "\n",
       "### Writable\n",
       "\n",
       ">      Writable (initial_value:Any=None, start:Notifier=<function <lambda>>)\n",
       "\n",
       "A Writable Store.\n",
       "\n",
       "|    | **Type** | **Default** | **Details** |\n",
       "| -- | -------- | ----------- | ----------- |\n",
       "| initial_value | Any | None | initial value of the store |\n",
       "| start | Notifier | <lambda> | A Notifier (Optional) |\n",
       "| **Returns** | **None** |  |  |"
      ]
     },
     "execution_count": 3,
     "metadata": {},
     "output_type": "execute_result"
    }
   ],
   "source": [
    "#|hide\n",
    "show_doc(Writable)"
   ]
  },
  {
   "cell_type": "code",
   "execution_count": 4,
   "metadata": {},
   "outputs": [
    {
     "name": "stdout",
     "output_type": "stream",
     "text": [
      "[0]\n"
     ]
    }
   ],
   "source": [
    "count = Writable(0)\n",
    "history = []  # logging for testing\n",
    "# subscribe returns an unsubscriber\n",
    "def record(x): \n",
    "    history.append(x)\n",
    "    print(history)\n",
    "stop = count.subscribe(record)\n",
    "\n",
    "test_eq(history, [0])"
   ]
  },
  {
   "attachments": {},
   "cell_type": "markdown",
   "metadata": {},
   "source": [
    "We just created a `count` store. Its value can be accessed via a `callback` we pass in the `count.subscribe` method:"
   ]
  },
  {
   "cell_type": "markdown",
   "metadata": {},
   "source": [
    "A __Writable__ can be set from the outside. When it happens, all its subscribers will react."
   ]
  },
  {
   "cell_type": "code",
   "execution_count": 5,
   "metadata": {},
   "outputs": [
    {
     "name": "stdout",
     "output_type": "stream",
     "text": [
      "[0, 3]\n",
      "[0, 3, 4]\n",
      "[0, 3, 4, 3]\n",
      "[0, 3, 4, 3, 2]\n",
      "[0, 3, 4, 3, 2, 0]\n",
      "[0, 3, 4, 3, 2, 0, 42]\n"
     ]
    }
   ],
   "source": [
    "def increment(): count.update(lambda x: x + 1)\n",
    "def decrement(): count.update(lambda x: x - 1)\n",
    "def reset(): count.set(0)\n",
    "\n",
    "count.set(3)\n",
    "increment()\n",
    "decrement()\n",
    "decrement()\n",
    "reset()\n",
    "count.set(42)\n",
    "\n",
    "test_eq(history, [0, 3, 4, 3, 2, 0, 42])"
   ]
  },
  {
   "attachments": {},
   "cell_type": "markdown",
   "metadata": {},
   "source": [
    "The `unsubscriber`, in this example the `stop` function, stops the notifications to the `subscriber`. "
   ]
  },
  {
   "cell_type": "code",
   "execution_count": 6,
   "metadata": {},
   "outputs": [
    {
     "data": {
      "text/plain": [
       "Writable(22)"
      ]
     },
     "execution_count": 6,
     "metadata": {},
     "output_type": "execute_result"
    }
   ],
   "source": [
    "stop()\n",
    "reset()\n",
    "count.set(22)\n",
    "test_eq(history, [0, 3, 4, 3, 2, 0, 42])\n",
    "count"
   ]
  },
  {
   "attachments": {},
   "cell_type": "markdown",
   "metadata": {},
   "source": [
    "Notice that you can still change the `store` but there was no print message this time.  There was no observer listening. \n",
    "\n",
    ":::{.callout-note}\n",
    "`Observer`, `Subscriber` and `Callback` are used as synomyms here.\n",
    ":::"
   ]
  },
  {
   "cell_type": "markdown",
   "metadata": {},
   "source": [
    "When we subscribe new callbacks, they will be promptly informed of the current state of the `store`."
   ]
  },
  {
   "cell_type": "code",
   "execution_count": 7,
   "metadata": {},
   "outputs": [
    {
     "name": "stdout",
     "output_type": "stream",
     "text": [
      "Count is now 22\n",
      "double of count is 44\n"
     ]
    }
   ],
   "source": [
    "stop  = count.subscribe(lambda x: print(f\"Count is now {x}\"))\n",
    "stop2 = count.subscribe(lambda x: print(f\"double of count is {2*x}\"))"
   ]
  },
  {
   "cell_type": "code",
   "execution_count": 8,
   "metadata": {},
   "outputs": [
    {
     "name": "stdout",
     "output_type": "stream",
     "text": [
      "double of count is 0\n",
      "Count is now 0\n"
     ]
    }
   ],
   "source": [
    "reset()"
   ]
  },
  {
   "cell_type": "code",
   "execution_count": 9,
   "metadata": {},
   "outputs": [],
   "source": [
    "stop()\n",
    "stop2()"
   ]
  },
  {
   "cell_type": "markdown",
   "metadata": {},
   "source": [
    "You can create an empty `Writable Store`."
   ]
  },
  {
   "cell_type": "code",
   "execution_count": 10,
   "metadata": {},
   "outputs": [],
   "source": [
    "store = Writable()\n",
    "history = []\n",
    "unsubscribe = store.subscribe(lambda x: history.append(x))\n",
    "unsubscribe()\n",
    "test_eq(history, [None])"
   ]
  },
  {
   "attachments": {},
   "cell_type": "markdown",
   "metadata": {},
   "source": [
    "If you try to unsubscribe twice, it won't break.  It just does nothing the second time... and in the third time... and..."
   ]
  },
  {
   "cell_type": "code",
   "execution_count": 11,
   "metadata": {},
   "outputs": [
    {
     "data": {
      "text/plain": [
       "(None, None, None)"
      ]
     },
     "execution_count": 11,
     "metadata": {},
     "output_type": "execute_result"
    }
   ],
   "source": [
    "unsubscribe(), unsubscribe(), unsubscribe()"
   ]
  },
  {
   "cell_type": "markdown",
   "metadata": {},
   "source": [
    "Stores assume mutable objects. \n",
    "\n",
    "::: {.callout-note}\n",
    "In Python everythong is an object.  Here we are calling an object something that is not a primitive (eg. int, bool, etc)\n",
    ":::"
   ]
  },
  {
   "cell_type": "code",
   "execution_count": 12,
   "metadata": {},
   "outputs": [],
   "source": [
    "class Bunch:\n",
    "    __init__ = lambda self, **kw: setattr(self, '__dict__', kw)\n",
    "\n",
    "obj = Bunch()\n",
    "called = 0\n",
    "store = Writable(obj)\n",
    "def callback(x):\n",
    "    global called\n",
    "    called += 1\n",
    "stop = store.subscribe(callback)"
   ]
  },
  {
   "cell_type": "code",
   "execution_count": 13,
   "metadata": {},
   "outputs": [],
   "source": [
    "test_eq(called, 1)\n",
    "obj.a = 1 #type: ignore\n",
    "store.set(obj)\n",
    "test_eq(called, 2)"
   ]
  },
  {
   "attachments": {},
   "cell_type": "markdown",
   "metadata": {},
   "source": [
    "#### __Readable Stores__"
   ]
  },
  {
   "attachments": {},
   "cell_type": "markdown",
   "metadata": {},
   "source": [
    "However... It is clear that not all stores should be writable by whoever has a reference to them. Many times you want a single `publisher` of change in store that is only consumed (`subscribed`) by many other objects. For those cases, we have readable stores.\n",
    "\n",
    ":::{.callout-note}\n",
    "The `Publisher Subscriber (PubSub)` pattern is a variant of the `Observable/Observer` pattern.\n",
    ":::"
   ]
  },
  {
   "cell_type": "code",
   "execution_count": 14,
   "metadata": {},
   "outputs": [],
   "source": [
    "from sveltish.stores import Readable"
   ]
  },
  {
   "cell_type": "code",
   "execution_count": 15,
   "metadata": {},
   "outputs": [
    {
     "data": {
      "text/markdown": [
       "---\n",
       "\n",
       "[source](https://github.com/fredguth/sveltish/blob/main/sveltish/stores.py#LNone){target=\"_blank\" style=\"float:right; font-size:smaller\"}\n",
       "\n",
       "### Readable\n",
       "\n",
       ">      Readable (initial_value:T, start:Notifier)\n",
       "\n",
       "A Readable Store.\n",
       "\n",
       "|    | **Type** | **Details** |\n",
       "| -- | -------- | ----------- |\n",
       "| initial_value | T | initial value of the store |\n",
       "| start | Notifier | function called when the first subscriber is added |\n",
       "| **Returns** | **None** |  |"
      ],
      "text/plain": [
       "---\n",
       "\n",
       "[source](https://github.com/fredguth/sveltish/blob/main/sveltish/stores.py#LNone){target=\"_blank\" style=\"float:right; font-size:smaller\"}\n",
       "\n",
       "### Readable\n",
       "\n",
       ">      Readable (initial_value:T, start:Notifier)\n",
       "\n",
       "A Readable Store.\n",
       "\n",
       "|    | **Type** | **Details** |\n",
       "| -- | -------- | ----------- |\n",
       "| initial_value | T | initial value of the store |\n",
       "| start | Notifier | function called when the first subscriber is added |\n",
       "| **Returns** | **None** |  |"
      ]
     },
     "execution_count": 15,
     "metadata": {},
     "output_type": "execute_result"
    }
   ],
   "source": [
    "#|hide\n",
    "show_doc(Readable)"
   ]
  },
  {
   "attachments": {},
   "cell_type": "markdown",
   "metadata": {},
   "source": [
    "A Readable store without a `start` function is a constant value and has no meaning for us. Therefore, `start` is a required argument."
   ]
  },
  {
   "cell_type": "code",
   "execution_count": 16,
   "metadata": {},
   "outputs": [
    {
     "name": "stdout",
     "output_type": "stream",
     "text": [
      "__init__() missing 1 required positional argument: 'start'\n"
     ]
    }
   ],
   "source": [
    "try:\n",
    "    c = Readable(0) # shoud fail\n",
    "except Exception as error:\n",
    "    print(error)\n",
    "\n",
    "test_fail(lambda: Readable(0))"
   ]
  },
  {
   "cell_type": "code",
   "execution_count": 17,
   "metadata": {},
   "outputs": [],
   "source": [
    "class Publisher:\n",
    "    def __init__(self): self.set = lambda x: None\n",
    "    def set_set(self, set): \n",
    "        self.set = set\n",
    "        return lambda: None\n",
    "    def use_set(self, value): self.set(value)"
   ]
  },
  {
   "cell_type": "code",
   "execution_count": 18,
   "metadata": {},
   "outputs": [
    {
     "data": {
      "text/plain": [
       "Readable(0)"
      ]
     },
     "execution_count": 18,
     "metadata": {},
     "output_type": "execute_result"
    }
   ],
   "source": [
    "p = Publisher()\n",
    "reader = Readable(0, p.set_set)\n",
    "reader"
   ]
  },
  {
   "attachments": {},
   "cell_type": "markdown",
   "metadata": {},
   "source": [
    "Ths store only starts updating after the first subscriber. Here, the publisher does not change the store."
   ]
  },
  {
   "cell_type": "code",
   "execution_count": 19,
   "metadata": {},
   "outputs": [
    {
     "data": {
      "text/plain": [
       "(None, Readable(0))"
      ]
     },
     "execution_count": 19,
     "metadata": {},
     "output_type": "execute_result"
    }
   ],
   "source": [
    "p.use_set(1), reader"
   ]
  },
  {
   "cell_type": "code",
   "execution_count": 20,
   "metadata": {},
   "outputs": [
    {
     "name": "stdout",
     "output_type": "stream",
     "text": [
      "reader is now 0\n"
     ]
    }
   ],
   "source": [
    "stop = reader.subscribe(lambda x: print(f\"reader is now {x}\"))"
   ]
  },
  {
   "cell_type": "code",
   "execution_count": 21,
   "metadata": {},
   "outputs": [
    {
     "name": "stdout",
     "output_type": "stream",
     "text": [
      "reader is now 2\n"
     ]
    }
   ],
   "source": [
    "p.use_set(2)"
   ]
  },
  {
   "cell_type": "code",
   "execution_count": 22,
   "metadata": {},
   "outputs": [],
   "source": [
    "stop()"
   ]
  },
  {
   "attachments": {},
   "cell_type": "markdown",
   "metadata": {},
   "source": [
    "Another example of Readable Store usage:"
   ]
  },
  {
   "cell_type": "code",
   "execution_count": 23,
   "metadata": {},
   "outputs": [],
   "source": [
    "from threading import Event, Thread\n",
    "import time"
   ]
  },
  {
   "cell_type": "code",
   "execution_count": 24,
   "metadata": {},
   "outputs": [],
   "source": [
    "def start(set): # the start function is the publisher\n",
    "    stopped = Event()\n",
    "    def loop(): # needs to be in a separate thread\n",
    "        while not stopped.wait(1): # in seconds\n",
    "            set(time.localtime())\n",
    "    Thread(target=loop).start()    \n",
    "    return stopped.set"
   ]
  },
  {
   "cell_type": "code",
   "execution_count": 25,
   "metadata": {},
   "outputs": [
    {
     "data": {
      "text/plain": [
       "Readable(time.struct_time(tm_year=2023, tm_mon=3, tm_mday=3, tm_hour=9, tm_min=39, tm_sec=1, tm_wday=4, tm_yday=62, tm_isdst=0))"
      ]
     },
     "execution_count": 25,
     "metadata": {},
     "output_type": "execute_result"
    }
   ],
   "source": [
    "now = Readable(time.localtime(), start)\n",
    "now"
   ]
  },
  {
   "cell_type": "markdown",
   "metadata": {},
   "source": [
    ":::{.callout-note}\n",
    "The `loop` needs to be in its own thread, otherwise the function would never return and we would wait forever.\n",
    ":::"
   ]
  },
  {
   "cell_type": "markdown",
   "metadata": {},
   "source": [
    "While there is no subscriber, the Readable will not be updated."
   ]
  },
  {
   "cell_type": "code",
   "execution_count": 26,
   "metadata": {},
   "outputs": [
    {
     "data": {
      "text/plain": [
       "Readable(time.struct_time(tm_year=2023, tm_mon=3, tm_mday=3, tm_hour=9, tm_min=39, tm_sec=1, tm_wday=4, tm_yday=62, tm_isdst=0))"
      ]
     },
     "execution_count": 26,
     "metadata": {},
     "output_type": "execute_result"
    }
   ],
   "source": [
    "now"
   ]
  },
  {
   "cell_type": "code",
   "execution_count": 27,
   "metadata": {},
   "outputs": [
    {
     "name": "stdout",
     "output_type": "stream",
     "text": [
      "09:39:01\r"
     ]
    }
   ],
   "source": [
    "OhPleaseStop = now.subscribe(lambda x: print(time.strftime(f\"%H:%M:%S\", x), end=\"\\r\"))"
   ]
  },
  {
   "cell_type": "code",
   "execution_count": 28,
   "metadata": {},
   "outputs": [
    {
     "name": "stdout",
     "output_type": "stream",
     "text": [
      "09:39:03\r"
     ]
    }
   ],
   "source": [
    "time.sleep(2)\n",
    "OhPleaseStop()"
   ]
  },
  {
   "attachments": {},
   "cell_type": "markdown",
   "metadata": {},
   "source": [
    "::: {.callout-note} \n",
    "\n",
    "The Svelte Store api allow you to create a Readable Store without a Notifier. See discussion [here.](https://github.com/sveltejs/svelte/issues/8300)\n",
    "\n",
    ":::"
   ]
  },
  {
   "cell_type": "markdown",
   "metadata": {},
   "source": [
    "#### __Derived Stores__"
   ]
  },
  {
   "attachments": {},
   "cell_type": "markdown",
   "metadata": {},
   "source": [
    "A `Derived Store` stores a value based on the value of another store."
   ]
  },
  {
   "cell_type": "code",
   "execution_count": 29,
   "metadata": {},
   "outputs": [],
   "source": [
    "from sveltish.stores import Derived"
   ]
  },
  {
   "cell_type": "code",
   "execution_count": 30,
   "metadata": {},
   "outputs": [
    {
     "data": {
      "text/markdown": [
       "---\n",
       "\n",
       "[source](https://github.com/fredguth/sveltish/blob/main/sveltish/stores.py#LNone){target=\"_blank\" style=\"float:right; font-size:smaller\"}\n",
       "\n",
       "### Derived\n",
       "\n",
       ">      Derived (s:Union[Store,list[Store]], fn:Callable)\n",
       "\n",
       "A Derived Store.\n",
       "\n",
       "|    | **Type** | **Details** |\n",
       "| -- | -------- | ----------- |\n",
       "| s | Union[Store, list[Store]] | source store(s) |\n",
       "| fn | Callable | a callback that takes the source store(s) values and returns the derived value |\n",
       "| **Returns** | **None** |  |"
      ],
      "text/plain": [
       "---\n",
       "\n",
       "[source](https://github.com/fredguth/sveltish/blob/main/sveltish/stores.py#LNone){target=\"_blank\" style=\"float:right; font-size:smaller\"}\n",
       "\n",
       "### Derived\n",
       "\n",
       ">      Derived (s:Union[Store,list[Store]], fn:Callable)\n",
       "\n",
       "A Derived Store.\n",
       "\n",
       "|    | **Type** | **Details** |\n",
       "| -- | -------- | ----------- |\n",
       "| s | Union[Store, list[Store]] | source store(s) |\n",
       "| fn | Callable | a callback that takes the source store(s) values and returns the derived value |\n",
       "| **Returns** | **None** |  |"
      ]
     },
     "execution_count": 30,
     "metadata": {},
     "output_type": "execute_result"
    }
   ],
   "source": [
    "#|hide\n",
    "show_doc(Derived)"
   ]
  },
  {
   "attachments": {},
   "cell_type": "markdown",
   "metadata": {},
   "source": [
    "For example:"
   ]
  },
  {
   "cell_type": "code",
   "execution_count": 31,
   "metadata": {},
   "outputs": [
    {
     "name": "stdout",
     "output_type": "stream",
     "text": [
      "count is 1\n",
      "double is 2\n"
     ]
    }
   ],
   "source": [
    "count = Writable(1)\n",
    "stopCount = count.subscribe(lambda x: print(f\"count is {x}\"))\n",
    "double = Derived(count, lambda x: x * 2)\n",
    "stopDouble = double.subscribe(lambda x: print(f\"double is {x}\"))\n",
    "test_eq(double.get(), 2*count.get())"
   ]
  },
  {
   "cell_type": "code",
   "execution_count": 32,
   "metadata": {},
   "outputs": [
    {
     "name": "stdout",
     "output_type": "stream",
     "text": [
      "double is 4\n",
      "count is 2\n"
     ]
    }
   ],
   "source": [
    "count.set(2)\n",
    "test_eq(double.get(), 4)"
   ]
  },
  {
   "cell_type": "code",
   "execution_count": 33,
   "metadata": {},
   "outputs": [
    {
     "data": {
      "text/plain": [
       "(None, None)"
      ]
     },
     "execution_count": 33,
     "metadata": {},
     "output_type": "execute_result"
    }
   ],
   "source": [
    "stopCount(), stopDouble()"
   ]
  },
  {
   "cell_type": "markdown",
   "metadata": {},
   "source": [
    "Building on our previous example, we can create a store that derives the elapsed time since the original store was started."
   ]
  },
  {
   "cell_type": "code",
   "execution_count": 34,
   "metadata": {},
   "outputs": [],
   "source": [
    "elapsing = None\n",
    "def calc_elapsed(now):\n",
    "    global elapsing\n",
    "    if not elapsing: \n",
    "        elapsing = now\n",
    "    return time.mktime(now) - time.mktime(elapsing)"
   ]
  },
  {
   "cell_type": "code",
   "execution_count": 35,
   "metadata": {},
   "outputs": [
    {
     "data": {
      "text/plain": [
       "Readable(time.struct_time(tm_year=2023, tm_mon=3, tm_mday=3, tm_hour=9, tm_min=39, tm_sec=3, tm_wday=4, tm_yday=62, tm_isdst=0))"
      ]
     },
     "execution_count": 35,
     "metadata": {},
     "output_type": "execute_result"
    }
   ],
   "source": [
    "now"
   ]
  },
  {
   "cell_type": "code",
   "execution_count": 36,
   "metadata": {},
   "outputs": [
    {
     "data": {
      "text/plain": [
       "Derived(0.0)"
      ]
     },
     "execution_count": 36,
     "metadata": {},
     "output_type": "execute_result"
    }
   ],
   "source": [
    "elapsed = Derived(now, lambda x: calc_elapsed(x))\n",
    "elapsed"
   ]
  },
  {
   "cell_type": "code",
   "execution_count": 37,
   "metadata": {},
   "outputs": [
    {
     "name": "stdout",
     "output_type": "stream",
     "text": [
      "Elapsed time of source store: 0.0 seconds.\r"
     ]
    }
   ],
   "source": [
    "stopElapsed = elapsed.subscribe(lambda x: print(f\"Elapsed time of source store: {x} seconds.\", end=\"\\r\"))"
   ]
  },
  {
   "cell_type": "code",
   "execution_count": 38,
   "metadata": {},
   "outputs": [
    {
     "name": "stdout",
     "output_type": "stream",
     "text": [
      "Elapsed time of source store: 2.0 seconds.\r"
     ]
    }
   ],
   "source": [
    "time.sleep(1)\n",
    "stopElapsed()"
   ]
  },
  {
   "attachments": {},
   "cell_type": "markdown",
   "metadata": {},
   "source": [
    "Derived stores allow us to transform the value of a store. In RxPy they are called `operators`. You can build several operators like: `filter`, `fold`, `map`, `zip`...\n",
    "\n",
    "Let's build a custom `filter` operator:"
   ]
  },
  {
   "cell_type": "code",
   "execution_count": 39,
   "metadata": {},
   "outputs": [
    {
     "name": "stdout",
     "output_type": "stream",
     "text": [
      "User: {'name': 'John', 'age': 32}\n"
     ]
    }
   ],
   "source": [
    "user = Writable({\"name\": \"John\", \"age\": 32})\n",
    "stopLog = user.subscribe(lambda x: print(f\"User: {x}\"))"
   ]
  },
  {
   "cell_type": "code",
   "execution_count": 40,
   "metadata": {},
   "outputs": [
    {
     "name": "stdout",
     "output_type": "stream",
     "text": [
      "Name: John\n"
     ]
    }
   ],
   "source": [
    "name = Derived(user, lambda x: x[\"name\"])\n",
    "stopName = name.subscribe(lambda x: print(f\"Name: {x}\"))"
   ]
  },
  {
   "cell_type": "code",
   "execution_count": 41,
   "metadata": {},
   "outputs": [
    {
     "name": "stdout",
     "output_type": "stream",
     "text": [
      "User: {'name': 'John', 'age': 45}\n"
     ]
    }
   ],
   "source": [
    "user.update(lambda x: x | {\"age\": 45})"
   ]
  },
  {
   "attachments": {},
   "cell_type": "markdown",
   "metadata": {},
   "source": [
    "Updating the age does not trigger the `name subscriber`. Let's see what happens when we update the name."
   ]
  },
  {
   "cell_type": "code",
   "execution_count": 42,
   "metadata": {},
   "outputs": [
    {
     "name": "stdout",
     "output_type": "stream",
     "text": [
      "Name: Fred\n",
      "User: {'name': 'Fred', 'age': 45}\n"
     ]
    }
   ],
   "source": [
    "user.update(lambda x: x | {\"name\": \"Fred\"})"
   ]
  },
  {
   "cell_type": "markdown",
   "metadata": {},
   "source": [
    "Only changes to the name of the user triggers the `name` subscriber."
   ]
  },
  {
   "cell_type": "code",
   "execution_count": 43,
   "metadata": {},
   "outputs": [
    {
     "data": {
      "text/plain": [
       "(None, None)"
      ]
     },
     "execution_count": 43,
     "metadata": {},
     "output_type": "execute_result"
    }
   ],
   "source": [
    "stopName(), stopLog()"
   ]
  },
  {
   "attachments": {},
   "cell_type": "markdown",
   "metadata": {},
   "source": [
    "Another cool thing about Derived Stores is that you can derive from a list of stores. Let's build a `zip` operator."
   ]
  },
  {
   "cell_type": "code",
   "execution_count": 44,
   "metadata": {},
   "outputs": [
    {
     "data": {
      "text/plain": [
       "(Writable([1, 2, 3, 4]), Writable([5, 6, 7, 8]))"
      ]
     },
     "execution_count": 44,
     "metadata": {},
     "output_type": "execute_result"
    }
   ],
   "source": [
    "a = Writable([1,2,3,4])\n",
    "b = Writable([5,6,7,8])\n",
    "a,b"
   ]
  },
  {
   "cell_type": "code",
   "execution_count": 45,
   "metadata": {},
   "outputs": [],
   "source": [
    "zipper = Derived([a,b], lambda a,b: list(zip(a,b)))"
   ]
  },
  {
   "cell_type": "code",
   "execution_count": 46,
   "metadata": {},
   "outputs": [],
   "source": [
    "test_eq(zipper.get(), [(1, 5), (2, 6), (3, 7), (4, 8)])"
   ]
  },
  {
   "attachments": {},
   "cell_type": "markdown",
   "metadata": {},
   "source": [
    "While `zipper` has no subscribers, it keeps the initial value, it is `stopped`.  "
   ]
  },
  {
   "cell_type": "code",
   "execution_count": 47,
   "metadata": {},
   "outputs": [],
   "source": [
    "a.set([4,3,2,1])\n",
    "test_eq(zipper.get(), [(1, 5), (2, 6), (3, 7), (4, 8)])"
   ]
  },
  {
   "attachments": {},
   "cell_type": "markdown",
   "metadata": {},
   "source": [
    "A subscription `starts` zipper and it will start to react to the changes of the stores."
   ]
  },
  {
   "cell_type": "code",
   "execution_count": 48,
   "metadata": {},
   "outputs": [],
   "source": [
    "u = zipper.subscribe(lambda x: None)\n",
    "test_eq(zipper.get(), [(4, 5), (3, 6), (2, 7), (1, 8)])"
   ]
  },
  {
   "cell_type": "code",
   "execution_count": 49,
   "metadata": {},
   "outputs": [],
   "source": [
    "b.set([8,7,6,5])\n",
    "test_eq(zipper.get(), [(4, 8), (3, 7), (2, 6), (1, 5)])"
   ]
  },
  {
   "cell_type": "code",
   "execution_count": 50,
   "metadata": {},
   "outputs": [],
   "source": [
    "u()"
   ]
  },
  {
   "cell_type": "markdown",
   "metadata": {},
   "source": [
    "## Missing features\n",
    "\n",
    "You may have noticed that along the way we had always to subscribe and then had to remember to unsubscribe when we were done. This is a bit of a nuisance. \n",
    "Svelte has a compiler that provide some [syntatic sugar](https://svelte.dev/tutorial/auto-subscriptions) to make this easier. They call it `auto-subscriptions`.\n",
    "\n",
    "`Sveltish` does not have `auto-subscriptions` yet. But if you have a nice idea how to implement it, please let me know."
   ]
  }
 ],
 "metadata": {
  "kernelspec": {
   "display_name": "python3",
   "language": "python",
   "name": "python3"
  },
  "language_info": {
   "codemirror_mode": {
    "name": "ipython",
    "version": 3
   },
   "file_extension": ".py",
   "mimetype": "text/x-python",
   "name": "python",
   "nbconvert_exporter": "python",
   "pygments_lexer": "ipython3",
   "version": "3.9.16"
  }
 },
 "nbformat": 4,
 "nbformat_minor": 4
}
