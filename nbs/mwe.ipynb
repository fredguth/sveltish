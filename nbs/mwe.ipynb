{
 "cells": [
  {
   "cell_type": "code",
   "execution_count": 1,
   "metadata": {},
   "outputs": [],
   "source": [
    "class DummyObservable:\n",
    "    def __init__(self, value):\n",
    "        self.value = value\n",
    "        self.subscribers = set()\n",
    "    def __repr__(self):\n",
    "        return f\"Dummy (id={id(self)}, value={self.value}, cbs={len(self.subscribers)})\"\n",
    "    def subscribe(self, callback):\n",
    "        self.subscribers.add(callback)\n",
    "        callback(self.value)\n",
    "        return lambda: self.subscribers.remove(callback)\n",
    "    def get(self):\n",
    "        return self.value\n",
    "    def update(self, value):\n",
    "        self.value = value\n",
    "        for callback in self.subscribers:\n",
    "            callback(value)"
   ]
  },
  {
   "cell_type": "code",
   "execution_count": 2,
   "metadata": {},
   "outputs": [],
   "source": [
    "a = DummyObservable(\"foo\")\n",
    "b = DummyObservable(\"bar\")"
   ]
  },
  {
   "cell_type": "code",
   "execution_count": 14,
   "metadata": {},
   "outputs": [
    {
     "name": "stdout",
     "output_type": "stream",
     "text": [
      "source 140054994979328 updated to foo\n",
      "source 140054994977600 updated to bar\n"
     ]
    }
   ],
   "source": [
    "sources = [a,b]\n",
    "unsubs = [None]*len(sources)\n",
    "for i,s in enumerate(sources):\n",
    "    unsubs[i] = (lambda s=s: s.subscribe(lambda x: print(f\"source {id(s)} updated to {x}\")))(s)\n"
   ]
  },
  {
   "cell_type": "code",
   "execution_count": 15,
   "metadata": {},
   "outputs": [
    {
     "data": {
      "text/plain": [
       "140054994979328"
      ]
     },
     "execution_count": 15,
     "metadata": {},
     "output_type": "execute_result"
    }
   ],
   "source": [
    "id(a)"
   ]
  },
  {
   "cell_type": "code",
   "execution_count": 16,
   "metadata": {},
   "outputs": [
    {
     "name": "stdout",
     "output_type": "stream",
     "text": [
      "source 140054994979328 updated to fonzie\n",
      "source 140054994979328 updated to fonzie\n"
     ]
    }
   ],
   "source": [
    "a.update(\"fonzie\")"
   ]
  },
  {
   "cell_type": "code",
   "execution_count": null,
   "metadata": {},
   "outputs": [],
   "source": [
    "u = a.subscribe(lambda x: print(f\"source {id(a)} updated to {x}\"))"
   ]
  },
  {
   "cell_type": "code",
   "execution_count": null,
   "metadata": {},
   "outputs": [],
   "source": [
    "# [s.subscribe(lambda x: print(f\"{id(s)}: {x}\")) for s in [a,b]]"
   ]
  },
  {
   "cell_type": "code",
   "execution_count": null,
   "metadata": {},
   "outputs": [],
   "source": []
  },
  {
   "cell_type": "code",
   "execution_count": null,
   "metadata": {},
   "outputs": [],
   "source": [
    "from functools import partial\n",
    "sources = [a,b]\n",
    "data={}\n",
    "def f(s): return s\n",
    "for i, s in enumerate(sources):\n",
    "    item = {}\n",
    "    item['id']=id(s)\n",
    "    item['value']=s.get()\n",
    "    f_with_s = partial(f,s)\n",
    "    item['subscription']= s.subscribe(lambda x: print(f\"{id(f_with_s())}: {x}\"))\n",
    "    data[i] = item\n",
    "data"
   ]
  },
  {
   "cell_type": "code",
   "execution_count": null,
   "metadata": {},
   "outputs": [],
   "source": [
    "a.update(\"foobar\"), id(a)"
   ]
  },
  {
   "cell_type": "code",
   "execution_count": null,
   "metadata": {},
   "outputs": [],
   "source": [
    "a,b"
   ]
  },
  {
   "cell_type": "code",
   "execution_count": null,
   "metadata": {},
   "outputs": [],
   "source": []
  }
 ],
 "metadata": {
  "kernelspec": {
   "display_name": "nbdev-test",
   "language": "python",
   "name": "python3"
  },
  "language_info": {
   "codemirror_mode": {
    "name": "ipython",
    "version": 3
   },
   "file_extension": ".py",
   "mimetype": "text/x-python",
   "name": "python",
   "nbconvert_exporter": "python",
   "pygments_lexer": "ipython3",
   "version": "3.9.16"
  },
  "orig_nbformat": 4
 },
 "nbformat": 4,
 "nbformat_minor": 2
}
