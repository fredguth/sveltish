{
 "cells": [
  {
   "cell_type": "code",
   "execution_count": null,
   "metadata": {},
   "outputs": [],
   "source": [
    "#|export\n",
    "from __future__ import annotations\n",
    "from typing import Callable, TypeVar,  Generic, Union, Optional, Set, Protocol, Any, overload\n",
    "from typing_extensions import Annotated, TypeAlias\n",
    "from fastcore.test import test_eq, test_fail"
   ]
  },
  {
   "cell_type": "code",
   "execution_count": null,
   "metadata": {},
   "outputs": [],
   "source": [
    "#| default_exp stores"
   ]
  },
  {
   "attachments": {},
   "cell_type": "markdown",
   "metadata": {},
   "source": [
    "# stores\n",
    "\n"
   ]
  },
  {
   "attachments": {},
   "cell_type": "markdown",
   "metadata": {},
   "source": [
    "## The Svelte Store contract"
   ]
  },
  {
   "attachments": {},
   "cell_type": "markdown",
   "metadata": {},
   "source": [
    "1. A store must contain a `.subscribe` method, which must accept as its argument a `subscription function`(aka Subscriber or Callback). This `subscription function` must be immediately and synchronously called with the store's current value upon calling `subscribe`. All of a store's active subscription functions must later be synchronously called whenever the store's value changes.\n",
    "\n",
    "1. The `.subscribe` method must return an `unsubscribe function`(aka Unsubscriber). Calling an `unsubscribe function` must `stop` its subscription, and its corresponding `subscription function` must not be called again by the store.\n",
    "\n",
    "1. A store may optionally contain a `.set` method, which must accept as its argument a new value for the store, and which synchronously calls all of the store's active subscription functions. Such a store is called a writable store.\n",
    "\n",
    "\n",
    "~~For interoperability with RxJS Observables, the .subscribe method is also allowed to return an object with an .unsubscribe method, rather than return the unsubscription function directly. Note however that unless .subscribe synchronously calls the subscription (which is not required by the Observable spec), Svelte will see the value of the store as undefined until it does.~~\n",
    "\n",
    "[Store Contract Documentation](https://svelte.dev/docs#component-format-script-4-prefix-stores-with-$-to-access-their-values-store-contract)\n"
   ]
  },
  {
   "attachments": {},
   "cell_type": "markdown",
   "metadata": {},
   "source": [
    "#### Types Definition"
   ]
  },
  {
   "cell_type": "code",
   "execution_count": null,
   "metadata": {},
   "outputs": [],
   "source": [
    "#| exports\n",
    "\n",
    "T = TypeVar(\"T\")\n",
    "covT = TypeVar(\"covT\", covariant=True)\n",
    "Subscriber = Callable[[T], None] # a callback\n",
    "Unsubscriber = Callable[[], None] # a callback to be used upon termination of the subscription\n",
    "Updater = Callable[[T], T]\n",
    "Notifier = Callable[[Subscriber], Union[Unsubscriber, None]]\n",
    "\n",
    "class StoreProtocol(Protocol, Generic[covT]):\n",
    "    ''' The Svelte Store ~~contract~~ protocol. '''\n",
    "    def subscribe(self, subscriber: Subscriber[T]) -> Unsubscriber: ...\n",
    "\n",
    "Readable: TypeAlias = StoreProtocol[T]\n",
    "\n",
    "class Writable(Readable[T]):\n",
    "    ''' Writable protocol'''\n",
    "    def set(self, value: T) -> None: ...\n",
    "    def update(self, updater: Updater[T]) -> None: ..."
   ]
  },
  {
   "attachments": {},
   "cell_type": "markdown",
   "metadata": {},
   "source": [
    "## Implementation"
   ]
  },
  {
   "attachments": {},
   "cell_type": "markdown",
   "metadata": {},
   "source": [
    "#### Writable Store"
   ]
  },
  {
   "cell_type": "code",
   "execution_count": null,
   "metadata": {},
   "outputs": [],
   "source": [
    "#|export\n",
    "import sveltish.utils as utils"
   ]
  },
  {
   "cell_type": "code",
   "execution_count": null,
   "metadata": {},
   "outputs": [],
   "source": [
    "#| export\n",
    "class Store(Readable[T]):\n",
    "    ''' A Writable Store.'''\n",
    "    def __init__(self:Writable,\n",
    "                initial_value: Any = None, # initial value of the store\n",
    "                start: Notifier = utils.noop # A Notifier (Optional)\n",
    "                ) -> None:\n",
    "        self.value = initial_value\n",
    "        self.subscribers: Set[Subscriber] = set() # callbacks to be called when the value changes\n",
    "        self.start: Notifier = start # function called when the first subscriber is added\n",
    "        self.stop: Optional[Unsubscriber] = None  # functional called when the last subscriber is removed\n",
    "\n",
    "    def get(self) -> T: return self.value\n",
    "    __call__ = get\n",
    "\n",
    "    def subscribe(self:Writable,\n",
    "                  callback: Subscriber # callback to be called when the store value changes\n",
    "                  ) -> Unsubscriber:\n",
    "        ''' Adds callback to the list of subscribers.'''\n",
    "        self.subscribers.add(callback)\n",
    "        if (len(self.subscribers) == 1):\n",
    "            self.stop = self.start(self.__set) or (lambda: None) #type: ignore\n",
    "        callback(self.value)\n",
    "        def unsubscribe() -> None:\n",
    "            ''' Removes callback from the list of subscribers.'''\n",
    "            self.subscribers.remove(callback) if callback in self.subscribers else None\n",
    "            if (len(self.subscribers) == 0):\n",
    "                self.stop() if self.stop else None #type: ignore\n",
    "                self.stop = None #type: ignore\n",
    "        return unsubscribe\n",
    "\n",
    "    def __set(self,\n",
    "            new_value: T # The new value of the store\n",
    "            ) -> None:\n",
    "        ''' Internal implementation of set used inside Readable Store, which does not exposes set.'''\n",
    "        if (utils.safe_not_equal(self.value, new_value)):\n",
    "            self.value = new_value\n",
    "            for subscriber in self.subscribers:\n",
    "                subscriber(new_value)\n",
    "\n",
    "    def set(self,\n",
    "            new_value: T # The new value of the store\n",
    "            ) -> None:\n",
    "        ''' Set value of store.'''\n",
    "        self.__set(new_value)\n",
    "\n",
    "    def update(self,\n",
    "               fn: Callable[[T], T] # a callback that takes the existing store value and updates it\n",
    "               ) -> None:\n",
    "        ''' Update the store value by applying `fn` to the existing value.'''\n",
    "        self.set(fn(self.value))\n",
    "\n",
    "    def __len__(self) -> int:\n",
    "        ''' The length of the store is the number of subscribers.'''\n",
    "        return len(self.subscribers)\n",
    "\n",
    "    def __repr__(self) -> str:\n",
    "        return f\"w<{len(self)}> ${self.value.__class__.__name__}: {self.value}\"\n"
   ]
  },
  {
   "cell_type": "markdown",
   "metadata": {},
   "source": [
    "#### Writable Factory"
   ]
  },
  {
   "cell_type": "code",
   "execution_count": null,
   "metadata": {},
   "outputs": [],
   "source": [
    "#|export\n",
    "def writable(value: T = None, # initial value of the store\n",
    "             start: Notifier = utils.noop # Optional Notifier, a function called when the first subscriber is added\n",
    "             ) -> Writable[T]: # Writable Store\n",
    "    ''' Creates a new Writable Store (A Writable factory).'''\n",
    "    return Store(value, start)"
   ]
  },
  {
   "cell_type": "code",
   "execution_count": null,
   "metadata": {},
   "outputs": [],
   "source": [
    "#| hide\n",
    "class Bunch:\n",
    "    __init__ = lambda self, **kw: setattr(self, '__dict__', kw)\n",
    "\n",
    "count = writable(0)\n",
    "values = []\n",
    "unsubscribe = count.subscribe(lambda x: values.append(x))\n",
    "count.set(1)\n",
    "count.update(lambda x: x+1)\n",
    "unsubscribe()\n",
    "count.set(3)\n",
    "count.update(lambda x: x+1)\n",
    "test_eq(values, [0,1,2])\n",
    "store = writable()\n",
    "values = []\n",
    "unsubscribe = store.subscribe(lambda x: values.append(x))\n",
    "unsubscribe()\n",
    "test_eq(values, [None])\n",
    "unsubscribe()\n",
    "test_eq(unsubscribe(), None)\n",
    "obj = Bunch()\n",
    "called = 0\n",
    "store = writable(obj)\n",
    "def callback(x):\n",
    "    global called\n",
    "    called += 1\n",
    "store.subscribe(callback)\n",
    "obj.a = 1\n",
    "store.set(obj)\n",
    "test_eq(called, 2)"
   ]
  },
  {
   "cell_type": "markdown",
   "metadata": {},
   "source": [
    "#### Readable Store"
   ]
  },
  {
   "cell_type": "code",
   "execution_count": null,
   "metadata": {},
   "outputs": [],
   "source": [
    "#|export\n",
    "class ReadableStore(Store[T]):\n",
    "    ''' A Readable Store.'''\n",
    "    def __init__(self,\n",
    "                 initial_value: T, # initial value of the store\n",
    "                 start: Notifier # function called when the first subscriber is added\n",
    "                ) -> None:\n",
    "        super().__init__(initial_value, start)\n",
    "    def set(self, *args, **kwargs): raise Exception(\"Cannot set a Readable Store.\")\n",
    "    def update(self, *args, **kwargs): raise Exception(\"Cannot update a Readable Store.\")\n",
    "    def __repr__(self) -> str: return \"r\" + super().__repr__()[1:]"
   ]
  },
  {
   "cell_type": "markdown",
   "metadata": {},
   "source": [
    "#### Readable Factory"
   ]
  },
  {
   "cell_type": "code",
   "execution_count": null,
   "metadata": {},
   "outputs": [],
   "source": [
    "#|export\n",
    "def readable(value: T, # initial value of the store\n",
    "             start: Notifier  # function called when the first subscriber is added\n",
    "             ) -> Readable[T]:  # Readable Store\n",
    "    ''' Creates a new Readable Store (A Readable factory).'''\n",
    "    return ReadableStore(value, start)"
   ]
  },
  {
   "cell_type": "code",
   "execution_count": null,
   "metadata": {},
   "outputs": [
    {
     "name": "stdout",
     "output_type": "stream",
     "text": [
      "readable() missing 1 required positional argument: 'start'\n"
     ]
    }
   ],
   "source": [
    "#|hide\n",
    "try:\n",
    "    a:Readable = readable(0) # shoud fail\n",
    "except Exception as error:\n",
    "    print(error)"
   ]
  },
  {
   "cell_type": "code",
   "execution_count": null,
   "metadata": {},
   "outputs": [],
   "source": [
    "#|hide\n",
    "test_fail(lambda: Readable(0))\n",
    "test_fail(lambda: readable(0))\n",
    "class Publisher:\n",
    "    def __init__(self): self.set = lambda x: None\n",
    "    def set_set(self, set): \n",
    "        self.set = set\n",
    "        return lambda: None\n",
    "    def use_set(self, value): self.set(value)\n",
    "p = Publisher()\n",
    "r:Readable = readable(0, p.set_set)\n",
    "test_eq(r.get(), 0)\n",
    "p.use_set(1) # lost forever\n",
    "test_eq(r.get(), 0) # a Readable Store only updates when it has subscribers\n",
    "stop = r.subscribe(utils.noop)\n",
    "test_eq(r.get(), 0)\n",
    "p.set(1)\n",
    "test_eq(r.get(), 1)\n",
    "stop()"
   ]
  },
  {
   "cell_type": "markdown",
   "metadata": {},
   "source": [
    "#### Derived Store\n"
   ]
  },
  {
   "cell_type": "code",
   "execution_count": null,
   "metadata": {},
   "outputs": [],
   "source": [
    "#|export\n",
    "from sveltish.utils import compose\n",
    "from fastcore.foundation import L"
   ]
  },
  {
   "cell_type": "code",
   "execution_count": null,
   "metadata": {},
   "outputs": [],
   "source": [
    "#|export\n",
    "class DerivedStore(Store[T]):\n",
    "    ''' A Derived Store.'''\n",
    "    def __init__(self,\n",
    "                 s: Union[Store, list[Store]], # source store(s)\n",
    "                 *functions: Callable, # a callback that takes the source store(s) values and returns the derived value\n",
    "             ) -> None:\n",
    "        self.sources = L(s)\n",
    "        if not all(isinstance(x, Store) for x in self.sources):\n",
    "            raise Exception(\"s must be a Store or a list of Stores\")\n",
    "        self.fn = compose(*functions)\n",
    "\n",
    "        def start(set_fn: Subscriber):\n",
    "            def sync(x=None): # x is ignored\n",
    "                values = self.sources.map(lambda x: x.get())\n",
    "                set_fn(self.fn(*values))\n",
    "            sync() # sync target with source values, they can have changed since Derived creation\n",
    "            unsubscribers = self.sources.map(lambda s: s.subscribe(sync))\n",
    "            def stop():\n",
    "                for unsubscribe in unsubscribers: unsubscribe()\n",
    "            return stop\n",
    "        values = self.sources.map(lambda x: x.get())\n",
    "        self.target = readable(self.fn(*values), start)\n",
    "\n",
    "    def get(self): return self.target.get()\n",
    "    def set(self, *args, **kwargs): raise Exception(\"Cannot set a Derived Store.\")\n",
    "    def update(self, *args, **kwargs): raise Exception(\"Cannot update a Derived Store.\")\n",
    "    def subscribe(self,\n",
    "                  callback: Subscriber # callback to be called when any of the source stores change\n",
    "                  ) -> Unsubscriber:\n",
    "        ''' Adds callback to the list of subscribers.'''\n",
    "        return self.target.subscribe(callback)"
   ]
  },
  {
   "cell_type": "markdown",
   "metadata": {},
   "source": [
    "#### Derived Factory"
   ]
  },
  {
   "cell_type": "code",
   "execution_count": null,
   "metadata": {},
   "outputs": [],
   "source": [
    "#| export\n",
    "def derived(s: Union[Store, list[Store]], # source store(s)\n",
    "            *functions: list(Callable[...,T]) # a callback that takes the source store(s) values and returns the derived value\n",
    "            ) -> Readable: # Derived Store\n",
    "    ''' Creates a new Derived Store (A Derived factory).'''\n",
    "    return DerivedStore(s, *functions).target"
   ]
  },
  {
   "cell_type": "code",
   "execution_count": null,
   "metadata": {},
   "outputs": [],
   "source": [
    "#| hide\n",
    "a:Writable = writable('foo')\n",
    "b = writable('bar')\n",
    "d = derived([a,b], lambda a,b: f\"{a}_{b}\")\n",
    "test_eq(d.get(), \"foo_bar\")\n",
    "a.set('fonzie')\n",
    "test_eq(d.get(), \"foo_bar\") #won't change if derived has no subscribers\n",
    "u = d.subscribe(lambda x: None)\n",
    "b.set('bach')\n",
    "test_eq(d.get(), \"fonzie_bach\")\n",
    "test_fail(lambda: d.set('baz'))\n",
    "test_fail(lambda: d.update(lambda x: x))\n",
    "u()"
   ]
  },
  {
   "cell_type": "markdown",
   "metadata": {},
   "source": [
    "#### Pipe Operator"
   ]
  },
  {
   "cell_type": "code",
   "execution_count": null,
   "metadata": {},
   "outputs": [],
   "source": [
    "#|export\n",
    "import fastcore.all as fc"
   ]
  },
  {
   "cell_type": "code",
   "execution_count": null,
   "metadata": {},
   "outputs": [],
   "source": [
    "#|export\n",
    "@fc.patch\n",
    "def pipe(self:Store, # source store\n",
    "         *functions: list(Callable[...,T]) # functions that transform the source store\n",
    "         )->Readable[T]: # returned store\n",
    "     ''' Unix-like Pipe operator.'''\n",
    "     return derived(self, *functions)"
   ]
  },
  {
   "cell_type": "code",
   "execution_count": null,
   "metadata": {},
   "outputs": [],
   "source": [
    "#|hide\n",
    "test_eq(writable(1).pipe(lambda x: x+1).pipe(lambda x: x*2).get(), 4)\n",
    "test_eq(writable(1).pipe(lambda x: x+1, lambda x: x*2).get(), 4)"
   ]
  },
  {
   "cell_type": "code",
   "execution_count": null,
   "metadata": {},
   "outputs": [],
   "source": [
    "#|export\n",
    "@fc.patch\n",
    "def __or__(self:Store, # source store\n",
    "           other: Callable[...,T] # function that transforms the source store\n",
    "           ) -> Readable[T]: # returned store\n",
    "    ''' self | other  works like Unix pipes. It returns a Derived Store that is the result of applying other to self.'''\n",
    "    return self.pipe(other)"
   ]
  },
  {
   "cell_type": "code",
   "execution_count": null,
   "metadata": {},
   "outputs": [],
   "source": [
    "#|hide\n",
    "test_eq((writable(1) | (lambda x: x+1) | (lambda x: x*2)).get(), 4)"
   ]
  },
  {
   "cell_type": "code",
   "execution_count": null,
   "metadata": {},
   "outputs": [],
   "source": [
    "#|hide\n",
    "import nbdev; nbdev.nbdev_export()"
   ]
  }
 ],
 "metadata": {
  "kernelspec": {
   "display_name": "python3",
   "language": "python",
   "name": "python3"
  }
 },
 "nbformat": 4,
 "nbformat_minor": 2
}
