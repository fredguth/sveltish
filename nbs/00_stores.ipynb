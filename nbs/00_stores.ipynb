{
 "cells": [
  {
   "cell_type": "code",
   "execution_count": 1,
   "metadata": {},
   "outputs": [],
   "source": [
    "#|hide\n",
    "import nbdev"
   ]
  },
  {
   "cell_type": "code",
   "execution_count": 2,
   "metadata": {},
   "outputs": [],
   "source": [
    "#|export\n",
    "from __future__ import annotations\n",
    "from typing import Callable, TypeVar,  Generic, Union, Optional, Set, Protocol, Any\n",
    "from typing_extensions import Annotated\n",
    "from fastcore.test import test_eq, test, test_fail\n",
    "from fastcore.basics import patch"
   ]
  },
  {
   "cell_type": "code",
   "execution_count": 3,
   "metadata": {},
   "outputs": [],
   "source": [
    "#| default_exp stores"
   ]
  },
  {
   "attachments": {},
   "cell_type": "markdown",
   "metadata": {},
   "source": [
    "# stores\n",
    "\n"
   ]
  },
  {
   "attachments": {},
   "cell_type": "markdown",
   "metadata": {},
   "source": [
    "## The Svelte Store contract"
   ]
  },
  {
   "attachments": {},
   "cell_type": "markdown",
   "metadata": {},
   "source": [
    "1. A store must contain a `.subscribe` method, which must accept as its argument a `subscription function`(aka Subscriber or Callback). This `subscription function` must be immediately and synchronously called with the store's current value upon calling `subscribe`. All of a store's active subscription functions must later be synchronously called whenever the store's value changes.\n",
    "\n",
    "1. The `.subscribe` method must return an `unsubscribe function`(aka Unsubscriber). Calling an `unsubscribe function` must `stop` its subscription, and its corresponding `subscription function` must not be called again by the store.\n",
    "\n",
    "1. A store may optionally contain a `.set` method, which must accept as its argument a new value for the store, and which synchronously calls all of the store's active subscription functions. Such a store is called a writable store.\n",
    "\n",
    "\n",
    "~~For interoperability with RxJS Observables, the .subscribe method is also allowed to return an object with an .unsubscribe method, rather than return the unsubscription function directly. Note however that unless .subscribe synchronously calls the subscription (which is not required by the Observable spec), Svelte will see the value of the store as undefined until it does.~~\n",
    "\n",
    "[Store Contract Documentation](https://svelte.dev/docs#component-format-script-4-prefix-stores-with-$-to-access-their-values-store-contract)\n"
   ]
  },
  {
   "attachments": {},
   "cell_type": "markdown",
   "metadata": {},
   "source": [
    "#### Types Definition"
   ]
  },
  {
   "cell_type": "code",
   "execution_count": 4,
   "metadata": {},
   "outputs": [],
   "source": [
    "#| exports\n",
    "\n",
    "T = TypeVar(\"T\")\n",
    "covT = TypeVar(\"covT\", covariant=True)\n",
    "Subscriber = Callable[[T], None] # a callback\n",
    "Unsubscriber = Callable[[], None] # a callback to be used upon termination of the subscription    \n",
    "Updater = Callable[[T], T]\n",
    "Notifier = Callable[[Subscriber], Union[Unsubscriber, None]]"
   ]
  },
  {
   "cell_type": "code",
   "execution_count": 5,
   "metadata": {},
   "outputs": [],
   "source": [
    "#| exports\n",
    "class StoreProtocol(Protocol, Generic[covT]):\n",
    "    ''' The Svelte Store ~~contract~~ protocol. '''\n",
    "    def subscribe(self, subscriber: Subscriber[T]) -> Unsubscriber: ..."
   ]
  },
  {
   "cell_type": "code",
   "execution_count": 6,
   "metadata": {},
   "outputs": [],
   "source": [
    "#| exporti\n",
    "class Store(StoreProtocol[T]):\n",
    "    ''' A base class for all stores.'''\n",
    "    value: T\n",
    "    subscribers: Set[Subscriber]\n",
    "    def __init__(self, /, **kwargs): \n",
    "        self.__dict__.update(kwargs) # see SimpleNamespace: https://docs.python.org/3/library/types.html\n",
    "    def __repr__(self) -> str:\n",
    "        return f\"{self.__class__.__name__}({self.get()!r})\"\n",
    "    def subscribe(self, callback: Subscriber) -> Unsubscriber:\n",
    "        return lambda: None\n",
    "    def get(self) -> T: return self.value\n",
    "\n",
    "class Readable(Store[T]): pass\n",
    "\n",
    "class Writable(Store[T]):\n",
    "    set: Subscriber\n",
    "    update: Optional[Callable[[Updater],None]] = None"
   ]
  },
  {
   "cell_type": "code",
   "execution_count": 7,
   "metadata": {},
   "outputs": [],
   "source": [
    "#|hide\n",
    "#|export\n",
    "from sveltish.util import safe_not_equal"
   ]
  },
  {
   "cell_type": "code",
   "execution_count": 8,
   "metadata": {},
   "outputs": [],
   "source": [
    "#| export\n",
    "class Writable(Store[T]):\n",
    "    ''' A Writable Store.'''\n",
    "    def __init__(self:Writable,\n",
    "                initial_value: Any = None, # initial value of the store\n",
    "                start: Notifier = lambda x: None # A Notifier (Optional)\n",
    "                ) -> None:\n",
    "        self.value = initial_value\n",
    "        self.subscribers: Set[Subscriber] = set() # callbacks to be called when the value changes\n",
    "        self.start: Notifier = start # function called when the first subscriber is added\n",
    "        self.stop: Optional[Unsubscriber] = None  # functional called when the last subscriber is removed\n",
    "        \n",
    "    def subscribe(self:Writable,\n",
    "                  callback: Subscriber # callback to be called when the store value changes\n",
    "                  ) -> Unsubscriber:\n",
    "        ''' Adds callback to the list of subscribers.'''\n",
    "        self.subscribers.add(callback)\n",
    "        if (len(self.subscribers) == 1):\n",
    "            self.stop = self.start(callback) or (lambda: None) #type: ignore\n",
    "        callback(self.value)\n",
    "\n",
    "        def unsubscribe() -> None:\n",
    "            ''' Removes callback from the list of subscribers.'''\n",
    "            self.subscribers.remove(callback) if callback in self.subscribers else None\n",
    "            if (len(self.subscribers) == 0):\n",
    "                self.stop() if self.stop else None #type: ignore\n",
    "                self.stop = None #type: ignore\n",
    "        return unsubscribe\n",
    "        \n",
    "    def set(self, \n",
    "            new_value: T # The new value of the store\n",
    "            ) -> None:\n",
    "        ''' Set value of store.'''\n",
    "        if (safe_not_equal(self.value, new_value)):\n",
    "            self.value = new_value\n",
    "            for subscriber in self.subscribers:\n",
    "                subscriber(new_value)\n",
    "                \n",
    "    def update(self, \n",
    "               fn: Callable[[T], T] # a callback that takes the existing store value and updates it\n",
    "               ) -> None:\n",
    "        ''' Update the store value by applying `fn` to the existing value.'''\n",
    "        self.set(fn(self.value))\n",
    "    \n",
    "    def __len__(self) -> int:\n",
    "        ''' The length of the store is the number of subscribers.'''\n",
    "        return len(self.subscribers)"
   ]
  },
  {
   "cell_type": "code",
   "execution_count": 9,
   "metadata": {},
   "outputs": [],
   "source": [
    "#| hide\n",
    "class Bunch:\n",
    "    __init__ = lambda self, **kw: setattr(self, '__dict__', kw)\n",
    "\n",
    "count = Writable(0)\n",
    "values = []\n",
    "unsubscribe = count.subscribe(lambda x: values.append(x))\n",
    "count.set(1)\n",
    "count.update(lambda x: x+1)\n",
    "unsubscribe()\n",
    "count.set(3)\n",
    "count.update(lambda x: x+1)\n",
    "test_eq(values, [0,1,2])\n",
    "store = Writable()\n",
    "values = []\n",
    "unsubscribe = store.subscribe(lambda x: values.append(x))\n",
    "unsubscribe()\n",
    "test_eq(values, [None])\n",
    "unsubscribe()\n",
    "test_eq(unsubscribe(), None)\n",
    "obj = Bunch()\n",
    "called = 0\n",
    "store = Writable(obj)\n",
    "def callback(x):\n",
    "    global called\n",
    "    called += 1\n",
    "store.subscribe(callback)\n",
    "obj.a = 1 #type: ignore\n",
    "store.set(obj)\n",
    "test_eq(called, 2)"
   ]
  },
  {
   "cell_type": "code",
   "execution_count": 10,
   "metadata": {},
   "outputs": [],
   "source": [
    "#|export\n",
    "class Readable(Writable[T]):\n",
    "    ''' A Readable Store.''' \n",
    "    def __init__(self, \n",
    "                 initial_value: T, # initial value of the store\n",
    "                 start: Notifier # function called when the first subscriber is added\n",
    "                ) -> None:\n",
    "        super().__init__(initial_value, start)\n",
    "    def set(self, *args, **kwargs): raise Exception(\"Cannot set a Readable Store.\")\n",
    "    def update(self, *args, **kwargs): raise Exception(\"Cannot update a Readable Store.\")"
   ]
  },
  {
   "cell_type": "code",
   "execution_count": 11,
   "metadata": {},
   "outputs": [],
   "source": [
    "#|export\n",
    "class Derived(Writable):\n",
    "    ''' A Derived Store.'''\n",
    "    def __init__(self:Derived, \n",
    "             s: Union[Store, list[Store]], # source store(s)\n",
    "             fn: Callable, # a callback that takes the source store(s) values and returns the derived value\n",
    "             ) -> None:\n",
    "        \n",
    "        self.target = Writable(None) # target store\n",
    "        \n",
    "        isStore = isinstance(s, Store)\n",
    "        isList = isinstance(s, list) and all([isinstance(x, Store) for x in s])\n",
    "        if not isStore and not isList: raise Exception(\"s must be a Store or a list of Stores\")\n",
    "        self.sources:list[Store] = [s] if isStore else s \n",
    "        self.fn = fn \n",
    "        \n",
    "        # subscribe to each source store and update the target when any of them change\n",
    "        self.unsubscribers = [(lambda s=s: s.subscribe(self._update))(s) for s in self.sources] \n",
    "        \n",
    "    def get(self): return self.target.get()\n",
    "\n",
    "    def set(self, *args, **kwargs): raise Exception(\"Cannot set a Derived Store.\")\n",
    "    def update(self, *args, **kwargs): raise Exception(\"Cannot update a Derived Store.\")\n",
    "    \n",
    "    def subscribe(self, \n",
    "                  callback: Subscriber # callback to be called when any of the source stores change\n",
    "                  ) -> Unsubscriber:\n",
    "        ''' Adds callback to the list of subscribers.'''\n",
    "        return self.target.subscribe(callback)\n",
    "    \n",
    "    def _update(self:Derived, x): # ignore the new value and just refresh the target from sources\n",
    "        values = [(lambda s=s: s.get())(s) for s in self.sources] # type: ignore\n",
    "        self.target.set(self.fn(*values)) # type: ignore"
   ]
  },
  {
   "cell_type": "code",
   "execution_count": 12,
   "metadata": {},
   "outputs": [],
   "source": [
    "#| hide\n",
    "a:Store = Writable('foo')\n",
    "b = Writable('bar')\n",
    "d = Derived([a,b], lambda a,b: f\"{a}_{b}\") # type: ignore\n",
    "test_eq(d.get(), \"foo_bar\")\n",
    "a.set('fonzie')\n",
    "test_eq(d.get(), \"fonzie_bar\")\n",
    "b.set('bach')\n",
    "test_eq(d.get(), \"fonzie_bach\")\n",
    "test_fail(lambda: d.set('baz'))\n",
    "test_fail(lambda: d.update(lambda x: x))"
   ]
  },
  {
   "cell_type": "code",
   "execution_count": 13,
   "metadata": {},
   "outputs": [],
   "source": [
    "#|hide\n",
    "nbdev.nbdev_export()"
   ]
  }
 ],
 "metadata": {
  "kernelspec": {
   "display_name": "python3",
   "language": "python",
   "name": "python3"
  },
  "language_info": {
   "codemirror_mode": {
    "name": "ipython",
    "version": 3
   },
   "file_extension": ".py",
   "mimetype": "text/x-python",
   "name": "python",
   "nbconvert_exporter": "python",
   "pygments_lexer": "ipython3",
   "version": "3.9.16"
  }
 },
 "nbformat": 4,
 "nbformat_minor": 2
}
