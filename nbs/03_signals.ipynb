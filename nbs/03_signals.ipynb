{
 "cells": [
  {
   "cell_type": "code",
   "execution_count": null,
   "metadata": {},
   "outputs": [
    {
     "name": "stdout",
     "output_type": "stream",
     "text": [
      "env: XLA_PYTHON_CLIENT_MEM_FRACTION=0.2\n"
     ]
    }
   ],
   "source": [
    "#|hide\n",
    "%env XLA_PYTHON_CLIENT_MEM_FRACTION=0.2\n",
    "%load_ext autoreload\n",
    "%autoreload 2"
   ]
  },
  {
   "cell_type": "code",
   "execution_count": null,
   "metadata": {},
   "outputs": [],
   "source": [
    "#|export\n",
    "from __future__ import annotations\n",
    "from typing import Callable, Optional, Set, Any, NamedTuple, Protocol, Tuple, Dict, TypeVar\n",
    "from fastcore.test import test_eq, test_fail\n",
    "from sveltish.utils import Bunch"
   ]
  },
  {
   "cell_type": "code",
   "execution_count": null,
   "metadata": {},
   "outputs": [],
   "source": [
    "#| default_exp signals"
   ]
  },
  {
   "cell_type": "code",
   "execution_count": null,
   "metadata": {},
   "outputs": [],
   "source": [
    "#|export\n",
    "    \n",
    "T = Optional[TypeVar(\"T\")]\n",
    "Getter = Callable[[],T]\n",
    "Setter = Callable[[T], None]\n",
    "Subscriber = Callable[[T], None] # a callback\n",
    "Unsubscriber = Callable[[], None] # a callback to be used upon termination of the subscription\n",
    "class Observable(Protocol):\n",
    "    def subscribe(self, \n",
    "                  observer: Callable[[Any], None]\n",
    "                  ) -> None: ...\n",
    "class Observer(Protocol):\n",
    "    def run(self) -> None: ...\n",
    "    def cancel(self) -> None: ...\n",
    "class Readable(Bunch):\n",
    "    ''' An observable that can be read.'''\n",
    "    def __init__(self, \n",
    "                 read: Getter\n",
    "                 ): self.read = read\n",
    "    def __repr__(self): \n",
    "        return f'${(self.read()).__class__.__name__}: {self.read().__repr__()}'\n",
    "    def asTuple(self):\n",
    "        return self.__dict__.values()\n",
    "    \n",
    "class Writable(Readable):\n",
    "    ''' An observable that can be read and set.'''\n",
    "    def __init__(self, read, \n",
    "                 write:Setter): \n",
    "        super().__init__(read)\n",
    "        self.write = write\n",
    "\n",
    "class Signal(Writable, Observable):\n",
    "    ''' A signal (aka store) stores a value and run callbacks when the value changes.\n",
    "    '''\n",
    "    def __init__(self, \n",
    "                 read: Getter, \n",
    "                 write:Setter,\n",
    "                 subscribe: Callable): \n",
    "        super().__init__(read, write)\n",
    "        self.subscribe = subscribe\n",
    "    subscribe = lambda self, observer: self.subscribe(observer)\n",
    "\n",
    "\n",
    "# Signal = Tuple[Getter, Setter, Callable[[Subscriber], None]]\n",
    "class Callback(Bunch, Observer):\n",
    "    ''' A callback is a function that is called when a signal changes.'''\n",
    "    def __init__(self, \n",
    "                 run:Callable[[], None], # the function to be called\n",
    "                 cancel:Callable[[], None], # cancels the subscription\n",
    "                 subscriptions:Set[Any] # observables the callback is subscribed to\n",
    "                 ): \n",
    "        self.run = run\n",
    "        self.cancel = cancel\n",
    "        self.subscriptions = subscriptions\n",
    "    run = lambda self: self.run()\n",
    "    cancel = lambda self: self.cancel()"
   ]
  },
  {
   "cell_type": "code",
   "execution_count": null,
   "metadata": {},
   "outputs": [],
   "source": [
    "# |export\n",
    "context = [] # a stack of dependencies of the current reaction\n",
    "\n",
    "\n",
    "def signal(\n",
    "    value: T = None # initial value\n",
    "    ) -> Signal:\n",
    "    ''' Signal factory.'''\n",
    "    subscribers = set()\n",
    "\n",
    "    def subscribe(\n",
    "        callback: Subscriber # callback to be called when the store value changes\n",
    "        ) -> None:\n",
    "        '''Add callback to list of subscribers to be executed when the signal value changes.\n",
    "        Also adds unsubscribe function to the callback's subscriptions.\n",
    "        '''\n",
    "        subscribers.add(callback.run)\n",
    "        callback.subscriptions.add(lambda: subscribers.discard(callback.run))\n",
    "\n",
    "    def read() -> T: # signal getter\n",
    "        callback = context[-1] if context else None\n",
    "        if callback: subscribe(callback)\n",
    "        return value\n",
    "\n",
    "    def write(newValue: T) -> None: # signal setter\n",
    "        nonlocal value\n",
    "        value = newValue\n",
    "        # run can change the subscribers set, so we need to copy it\n",
    "        for run in subscribers.copy():run()\n",
    "\n",
    "    return Signal(read, write, subscribe)\n",
    "\n",
    "\n",
    "def reaction(fn: Callable) -> Callback:\n",
    "    ''' Reaction factory. A reaction is a callback that is called when a signal changes.\\n\n",
    "    Also known as: effect, observer, callback, computed, formula, derived.'''\n",
    "    def cancel():\n",
    "        nonlocal callback\n",
    "        # unsubscribe function can change the set, so we need to copy it\n",
    "        for u in callback.subscriptions.copy(): u()\n",
    "        callback = Callback(callback.run, callback.cancel, set())\n",
    "\n",
    "    def run():\n",
    "        cancel()\n",
    "        context.append(callback)\n",
    "        try: fn()\n",
    "        finally: context.pop()\n",
    "\n",
    "    callback = Callback(run, cancel, set())\n",
    "    run()\n",
    "    return callback\n",
    "\n",
    "def writable(value:T=None) -> Writable:\n",
    "    ''' Writable factory. A writable is an interface to a signal.'''\n",
    "    s = signal(value)\n",
    "    return Writable(s.read, s.write)\n",
    "\n",
    "from sveltish.utils import compose\n",
    "from functools import reduce\n",
    "\n",
    "def pipe(*fns):\n",
    "    ''' Composes a list of functions.'''\n",
    "    w = writable()\n",
    "    fn = compose(*fns)\n",
    "    _ = reduce(lambda fn: w.write(fn()), [*fns])\n",
    "    # _ = reaction(lambda: w.write(fn()))\n",
    "    return w.read\n",
    "\n",
    "def computed(fn) -> Getter:\n",
    "    ''' A computed is a signal that is derived from other signals. It is a kind of cache of a reaction.'''\n",
    "    w = writable()\n",
    "    _ = reaction(lambda: w.write(fn()))\n",
    "    return w.read\n",
    "\n",
    "\n",
    "\n",
    "def readonly(value:T=None) -> Getter:\n",
    "    w = writable(value)\n",
    "    return w.read\n",
    "    # return Readable(read)\n",
    "\n",
    "\n",
    "observable = cell = signal\n",
    "observer = callback = effect = view = reaction\n",
    "derived = formula = computed\n"
   ]
  },
  {
   "cell_type": "markdown",
   "metadata": {},
   "source": [
    "## Tests"
   ]
  },
  {
   "cell_type": "code",
   "execution_count": null,
   "metadata": {},
   "outputs": [],
   "source": [
    "count, setCount = writable(0).asTuple()"
   ]
  },
  {
   "cell_type": "code",
   "execution_count": null,
   "metadata": {},
   "outputs": [
    {
     "name": "stdout",
     "output_type": "stream",
     "text": [
      "[0]\n"
     ]
    }
   ],
   "source": [
    "history = []  # logging for testing\n",
    "\n",
    "def record(x): \n",
    "    history.append(x)\n",
    "    print(history)\n",
    "logger = reaction(lambda: record(count()))\n",
    "\n",
    "test_eq(history, [0])"
   ]
  },
  {
   "cell_type": "code",
   "execution_count": null,
   "metadata": {},
   "outputs": [
    {
     "name": "stdout",
     "output_type": "stream",
     "text": [
      "[0, 3]\n",
      "[0, 3, 4]\n",
      "[0, 3, 4, 3]\n",
      "[0, 3, 4, 3, 2]\n",
      "[0, 3, 4, 3, 2, 0]\n",
      "[0, 3, 4, 3, 2, 0, 42]\n"
     ]
    }
   ],
   "source": [
    "def increment(): setCount(count()+1)\n",
    "def decrement(): setCount(count()-1)\n",
    "def reset(): setCount(0)\n",
    "\n",
    "setCount(3)\n",
    "increment()\n",
    "decrement()\n",
    "decrement()\n",
    "reset()\n",
    "setCount(42)\n",
    "\n",
    "test_eq(history, [0, 3, 4, 3, 2, 0, 42])"
   ]
  },
  {
   "cell_type": "code",
   "execution_count": null,
   "metadata": {},
   "outputs": [],
   "source": [
    "logger.cancel()\n",
    "reset()\n",
    "setCount(22)\n",
    "test_eq(history, [0, 3, 4, 3, 2, 0, 42])"
   ]
  },
  {
   "cell_type": "code",
   "execution_count": null,
   "metadata": {},
   "outputs": [
    {
     "name": "stdout",
     "output_type": "stream",
     "text": [
      "Count is now 22\n",
      "double of the count is 44\n"
     ]
    }
   ],
   "source": [
    "effect1 = reaction(lambda: print(f'Count is now {count()}'))\n",
    "effect2 = reaction(lambda: print(f'double of the count is {count()*2}'))"
   ]
  },
  {
   "cell_type": "code",
   "execution_count": null,
   "metadata": {},
   "outputs": [
    {
     "name": "stdout",
     "output_type": "stream",
     "text": [
      "Count is now 0\n",
      "double of the count is 0\n"
     ]
    }
   ],
   "source": [
    "reset()"
   ]
  },
  {
   "cell_type": "code",
   "execution_count": null,
   "metadata": {},
   "outputs": [],
   "source": [
    "effect1.cancel()\n",
    "effect2.cancel()"
   ]
  },
  {
   "cell_type": "code",
   "execution_count": null,
   "metadata": {},
   "outputs": [],
   "source": [
    "history = []\n",
    "s, set_fn = writable().asTuple()"
   ]
  },
  {
   "cell_type": "code",
   "execution_count": null,
   "metadata": {},
   "outputs": [],
   "source": [
    "logger = reaction(lambda: history.append(s()))\n",
    "logger.cancel()\n",
    "test_eq(history, [None])"
   ]
  },
  {
   "cell_type": "code",
   "execution_count": null,
   "metadata": {},
   "outputs": [],
   "source": [
    "from threading import Event, Thread\n",
    "import time"
   ]
  },
  {
   "cell_type": "code",
   "execution_count": null,
   "metadata": {},
   "outputs": [],
   "source": [
    "def start(set): # the start function is the publisher\n",
    "    stopped = Event()\n",
    "    def loop(): # needs to be in a separate thread\n",
    "        while not stopped.wait(1): # in seconds\n",
    "            set(time.localtime())\n",
    "    Thread(target=loop).start()    \n",
    "    return stopped.set"
   ]
  },
  {
   "cell_type": "code",
   "execution_count": null,
   "metadata": {},
   "outputs": [
    {
     "name": "stdout",
     "output_type": "stream",
     "text": [
      "15:41:35\n"
     ]
    }
   ],
   "source": [
    "timer, set_fn = writable(time.localtime()).asTuple()\n",
    "log = reaction(lambda: print(time.strftime(f\"%H:%M:%S\", timer())))"
   ]
  },
  {
   "cell_type": "code",
   "execution_count": null,
   "metadata": {},
   "outputs": [
    {
     "name": "stdout",
     "output_type": "stream",
     "text": [
      "15:41:36\n",
      "15:41:37\n"
     ]
    }
   ],
   "source": [
    "stop = start(set_fn)\n",
    "time.sleep(2)\n",
    "stop()"
   ]
  },
  {
   "cell_type": "code",
   "execution_count": null,
   "metadata": {},
   "outputs": [
    {
     "name": "stdout",
     "output_type": "stream",
     "text": [
      "count is 0\n"
     ]
    }
   ],
   "source": [
    "count, setCount = writable(0).asTuple()\n",
    "logCount = reaction(lambda: print(f'count is {count()}'))"
   ]
  },
  {
   "cell_type": "code",
   "execution_count": null,
   "metadata": {},
   "outputs": [
    {
     "name": "stdout",
     "output_type": "stream",
     "text": [
      "count is 7\n"
     ]
    }
   ],
   "source": [
    "double = computed(lambda: count()*2) #type: ignore\n",
    "setCount(7)\n",
    "test_eq(double(), 14)"
   ]
  },
  {
   "cell_type": "code",
   "execution_count": null,
   "metadata": {},
   "outputs": [],
   "source": [
    "logCount.cancel()"
   ]
  },
  {
   "cell_type": "code",
   "execution_count": null,
   "metadata": {},
   "outputs": [],
   "source": [
    "elapsing = None\n",
    "def calc_elapsed(now):\n",
    "    global elapsing\n",
    "    if not elapsing: \n",
    "        elapsing = now\n",
    "    return time.mktime(now) - time.mktime(elapsing)"
   ]
  },
  {
   "cell_type": "code",
   "execution_count": null,
   "metadata": {},
   "outputs": [
    {
     "data": {
      "text/plain": [
       "time.struct_time(tm_year=2023, tm_mon=3, tm_mday=15, tm_hour=15, tm_min=41, tm_sec=37, tm_wday=2, tm_yday=74, tm_isdst=0)"
      ]
     },
     "execution_count": null,
     "metadata": {},
     "output_type": "execute_result"
    }
   ],
   "source": [
    "timer()"
   ]
  },
  {
   "cell_type": "code",
   "execution_count": null,
   "metadata": {},
   "outputs": [
    {
     "data": {
      "text/plain": [
       "0.0"
      ]
     },
     "execution_count": null,
     "metadata": {},
     "output_type": "execute_result"
    }
   ],
   "source": [
    "elapsed = computed(lambda: calc_elapsed(timer()))\n",
    "elapsed()"
   ]
  },
  {
   "cell_type": "code",
   "execution_count": null,
   "metadata": {},
   "outputs": [
    {
     "name": "stdout",
     "output_type": "stream",
     "text": [
      "15:41:39\n",
      "15:41:40\n"
     ]
    }
   ],
   "source": [
    "stop = start(set_fn)\n",
    "time.sleep(2)\n",
    "stop()"
   ]
  },
  {
   "cell_type": "code",
   "execution_count": null,
   "metadata": {},
   "outputs": [],
   "source": [
    "a = writable([1,2,3,4])\n",
    "b = writable([5,6,7,8])\n",
    "zipper = computed(lambda: list(zip(a.read(), b.read())))\n",
    "test_eq(zipper(), [(1, 5), (2, 6), (3, 7), (4, 8)])\n",
    "a.write([4,3,2,1])\n",
    "test_eq(zipper(), [(4, 5), (3, 6), (2, 7), (1, 8)])\n",
    "b.write([8,7,6,5])\n",
    "test_eq(zipper(), [(4, 8), (3, 7), (2, 6), (1, 5)])"
   ]
  },
  {
   "cell_type": "code",
   "execution_count": null,
   "metadata": {},
   "outputs": [],
   "source": [
    "history = []\n",
    "firstName, setFirstName = writable(\"John\").asTuple()\n",
    "lastName, setLastName = writable(\"Smith\").asTuple()\n",
    "fullName = lambda: f'{firstName()} {lastName()}'\n",
    "showFullName, setShowFullName = writable(True).asTuple()\n",
    "displayName = reaction(lambda: history.append(fullName() if showFullName() else firstName()))"
   ]
  },
  {
   "cell_type": "code",
   "execution_count": null,
   "metadata": {},
   "outputs": [],
   "source": [
    "test_eq(history, ['John Smith'])\n",
    "setShowFullName(False)\n",
    "test_eq(history, ['John Smith', 'John'])\n",
    "setShowFullName(True)\n",
    "test_eq(history, ['John Smith', 'John', 'John Smith'])"
   ]
  },
  {
   "cell_type": "code",
   "execution_count": null,
   "metadata": {},
   "outputs": [],
   "source": [
    "#|hide\n",
    "import nbdev; nbdev.nbdev_export()"
   ]
  },
  {
   "cell_type": "code",
   "execution_count": null,
   "metadata": {},
   "outputs": [],
   "source": []
  }
 ],
 "metadata": {
  "kernelspec": {
   "display_name": "python3",
   "language": "python",
   "name": "python3"
  }
 },
 "nbformat": 4,
 "nbformat_minor": 2
}
