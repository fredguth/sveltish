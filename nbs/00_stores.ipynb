{
 "cells": [
  {
   "cell_type": "code",
   "execution_count": null,
   "metadata": {},
   "outputs": [],
   "source": [
    "#|hide\n",
    "import nbdev\n"
   ]
  },
  {
   "cell_type": "code",
   "execution_count": null,
   "metadata": {},
   "outputs": [],
   "source": [
    "#|export\n",
    "from __future__ import annotations\n",
    "from typing import Callable, TypeVar,  Generic, Union, Optional, Set, Protocol, Any\n",
    "from typing_extensions import Annotated\n",
    "from fastcore.test import test_eq, test, test_fail\n",
    "from fastcore.basics import patch"
   ]
  },
  {
   "cell_type": "code",
   "execution_count": null,
   "metadata": {},
   "outputs": [],
   "source": [
    "#| default_exp stores"
   ]
  },
  {
   "attachments": {},
   "cell_type": "markdown",
   "metadata": {},
   "source": [
    "# Stores\n",
    "> A Svelte stores implementation in Python.  \n",
    "\n",
    "See the orginal [Svelte Stores](https://svelte.dev/docs#run-time-svelte-store)."
   ]
  },
  {
   "attachments": {},
   "cell_type": "markdown",
   "metadata": {},
   "source": [
    "## The Svelte Store contract"
   ]
  },
  {
   "attachments": {},
   "cell_type": "markdown",
   "metadata": {},
   "source": [
    "1. A store must contain a `.subscribe` method, which must accept as its argument a `subscription function`(aka Subscriber or Callback). This `subscription function` must be immediately and synchronously called with the store's current value upon calling `subscribe`. All of a store's active subscription functions must later be synchronously called whenever the store's value changes.\n",
    "\n",
    "1. The `.subscribe` method must return an `unsubscribe function`(aka Unsubscriber). Calling an `unsubscribe function` must `stop` its subscription, and its corresponding `subscription function` must not be called again by the store.\n",
    "\n",
    "1. A store may optionally contain a `.set` method, which must accept as its argument a new value for the store, and which synchronously calls all of the store's active subscription functions. Such a store is called a writable store.\n",
    "\n",
    "\n",
    "~~For interoperability with RxJS Observables, the .subscribe method is also allowed to return an object with an .unsubscribe method, rather than return the unsubscription function directly. Note however that unless .subscribe synchronously calls the subscription (which is not required by the Observable spec), Svelte will see the value of the store as undefined until it does.~~\n",
    "\n",
    "[Store Contract Documentation](https://svelte.dev/docs#component-format-script-4-prefix-stores-with-$-to-access-their-values-store-contract)\n"
   ]
  },
  {
   "attachments": {},
   "cell_type": "markdown",
   "metadata": {},
   "source": [
    "#### Types Definition"
   ]
  },
  {
   "cell_type": "code",
   "execution_count": null,
   "metadata": {},
   "outputs": [],
   "source": [
    "#| exports\n",
    "\n",
    "T = TypeVar(\"T\")\n",
    "covT = TypeVar(\"covT\", covariant=True)\n",
    "Subscriber = Callable[[T], None] # a callback\n",
    "Unsubscriber = Callable[[], None] # a callback to be used upon termination of the subscription    \n",
    "Updater = Callable[[T], T]"
   ]
  },
  {
   "cell_type": "code",
   "execution_count": null,
   "metadata": {},
   "outputs": [],
   "source": [
    "#| exports\n",
    "\n",
    "class StoreProtocol(Protocol, Generic[covT]):\n",
    "    ''' The Svelte Store ~~contract~~ protocol. '''\n",
    "    def subscribe(self, subscriber: Subscriber[T]) -> Unsubscriber: ..."
   ]
  },
  {
   "cell_type": "code",
   "execution_count": null,
   "metadata": {},
   "outputs": [],
   "source": [
    "#| exporti\n",
    "\n",
    "class Store(StoreProtocol[T]):\n",
    "    ''' A base class for all stores.'''\n",
    "    value: T\n",
    "    subscribers: Set[Subscriber]\n",
    "    def __init__(self, /, **kwargs): \n",
    "        self.__dict__.update(kwargs) # see SimpleNamespace: https://docs.python.org/3/library/types.html\n",
    "    def __repr__(self) -> str:\n",
    "        return f\"{self.__class__.__name__}({self.get()!r})\"\n",
    "    def subscribe(self, callback: Subscriber) -> Unsubscriber:\n",
    "        return lambda: None\n",
    "    def get(self) -> T: return self.value\n",
    "\n",
    "class Readable(Store[T]): pass\n",
    "\n",
    "class Writable(Store[T]):\n",
    "    set: Subscriber\n",
    "    update: Optional[Callable[[Updater],None]] = None"
   ]
  },
  {
   "attachments": {},
   "cell_type": "markdown",
   "metadata": {},
   "source": [
    "## Writable Stores"
   ]
  },
  {
   "cell_type": "markdown",
   "metadata": {},
   "source": [
    "Let's start with a simple implementation of a writable store:"
   ]
  },
  {
   "cell_type": "code",
   "execution_count": null,
   "metadata": {},
   "outputs": [],
   "source": [
    "#|hide\n",
    "#|export\n",
    "from sveltish.util import safe_not_equal"
   ]
  },
  {
   "cell_type": "code",
   "execution_count": null,
   "metadata": {},
   "outputs": [],
   "source": [
    "#| exports\n",
    "class Writable(Store[T]):\n",
    "    ''' A Writable Store.'''\n",
    "    def __init__(self, \n",
    "                 initial_value: T = None # the initial value of the store\n",
    "                 ) -> None:\n",
    "        self.value: T = initial_value\n",
    "        self.subscribers: Set[Subscriber] = set() # callbacks to be called when the value changes\n",
    "\n",
    "    def subscribe(self, callback: Subscriber) -> Unsubscriber:\n",
    "        self.subscribers.add(callback)\n",
    "        callback(self.value)\n",
    "\n",
    "        def unsubscribe() -> None:\n",
    "            # the unsubscribe can be called multiple times, \n",
    "            # so we need to check if the callback is still in the set\n",
    "            self.subscribers.remove(callback) if callback in self.subscribers else None\n",
    "        return unsubscribe\n",
    "    \n",
    "    def set(self, new_value: T) -> None:\n",
    "        if (safe_not_equal(self.value, new_value)):\n",
    "            self.value = new_value\n",
    "            for subscriber in self.subscribers:\n",
    "                subscriber(new_value)\n",
    "                \n",
    "    def update(self, fn: Callable[[T], T]) -> None:\n",
    "        self.set(fn(self.value))\n",
    "    \n",
    "    def __len__(self) -> int:\n",
    "        ''' The length of the store is the number of subscribers.'''\n",
    "        return len(self.subscribers)"
   ]
  },
  {
   "attachments": {},
   "cell_type": "markdown",
   "metadata": {},
   "source": [
    "#### A `Writable Store` in action"
   ]
  },
  {
   "attachments": {},
   "cell_type": "markdown",
   "metadata": {},
   "source": [
    "Let's create a `Writable`.  Remember that it returns an unsubscriber function."
   ]
  },
  {
   "cell_type": "code",
   "execution_count": null,
   "metadata": {},
   "outputs": [
    {
     "data": {
      "text/plain": [
       "(Writable(0), [0], function)"
      ]
     },
     "execution_count": null,
     "metadata": {},
     "output_type": "execute_result"
    }
   ],
   "source": [
    "count = Writable(0)\n",
    "values = []\n",
    "unsubscribe = count.subscribe(lambda x: values.append(x))\n",
    "count, values, type(unsubscribe)"
   ]
  },
  {
   "attachments": {},
   "cell_type": "markdown",
   "metadata": {},
   "source": [
    "A __Writable__ can be set from the outside. When it happens, all its subscribers will react."
   ]
  },
  {
   "cell_type": "code",
   "execution_count": null,
   "metadata": {},
   "outputs": [
    {
     "data": {
      "text/plain": [
       "__main__.Writable"
      ]
     },
     "execution_count": null,
     "metadata": {},
     "output_type": "execute_result"
    }
   ],
   "source": [
    "type(count)"
   ]
  },
  {
   "cell_type": "code",
   "execution_count": null,
   "metadata": {},
   "outputs": [
    {
     "data": {
      "text/plain": [
       "(Writable(2), [0, 1, 2])"
      ]
     },
     "execution_count": null,
     "metadata": {},
     "output_type": "execute_result"
    }
   ],
   "source": [
    "count.set(1)\n",
    "count.update(lambda x: x+1)\n",
    "count, values"
   ]
  },
  {
   "cell_type": "markdown",
   "metadata": {},
   "source": [
    "After unsubscribing, the subscriber should not be called anymore:"
   ]
  },
  {
   "cell_type": "code",
   "execution_count": null,
   "metadata": {},
   "outputs": [
    {
     "data": {
      "text/plain": [
       "(Writable(4), [0, 1, 2])"
      ]
     },
     "execution_count": null,
     "metadata": {},
     "output_type": "execute_result"
    }
   ],
   "source": [
    "unsubscribe()\n",
    "count.set(3)\n",
    "count.update(lambda x: x+1)\n",
    "count, values"
   ]
  },
  {
   "cell_type": "code",
   "execution_count": null,
   "metadata": {},
   "outputs": [],
   "source": [
    "#| hide\n",
    "test_eq(values, [0,1,2])\n"
   ]
  },
  {
   "attachments": {},
   "cell_type": "markdown",
   "metadata": {},
   "source": [
    "You can create an empty `Writable Store`."
   ]
  },
  {
   "cell_type": "code",
   "execution_count": null,
   "metadata": {},
   "outputs": [
    {
     "data": {
      "text/plain": [
       "(Writable(None), [None])"
      ]
     },
     "execution_count": null,
     "metadata": {},
     "output_type": "execute_result"
    }
   ],
   "source": [
    "store = Writable()\n",
    "values = []\n",
    "unsubscribe = store.subscribe(lambda x: values.append(x))\n",
    "unsubscribe()\n",
    "store, values"
   ]
  },
  {
   "cell_type": "code",
   "execution_count": null,
   "metadata": {},
   "outputs": [],
   "source": [
    "#| hide\n",
    "test_eq(values, [None])"
   ]
  },
  {
   "cell_type": "markdown",
   "metadata": {},
   "source": [
    "If you try to unsubscibe twice, it won't break.  It just does nothing the second time."
   ]
  },
  {
   "cell_type": "code",
   "execution_count": null,
   "metadata": {},
   "outputs": [],
   "source": [
    "unsubscribe()"
   ]
  },
  {
   "attachments": {},
   "cell_type": "markdown",
   "metadata": {},
   "source": [
    "Stores assume mutable objects. \n",
    "\n",
    "::: {.callout-note}\n",
    "In Python everythong is an object.  Here we are calling an object something that is not a primitive (eg. int, bool, etc)\n",
    ":::"
   ]
  },
  {
   "cell_type": "code",
   "execution_count": null,
   "metadata": {},
   "outputs": [
    {
     "data": {
      "text/plain": [
       "(Writable(<__main__.Bunch object>), 2)"
      ]
     },
     "execution_count": null,
     "metadata": {},
     "output_type": "execute_result"
    }
   ],
   "source": [
    "class Bunch:\n",
    "    __init__ = lambda self, **kw: setattr(self, '__dict__', kw)\n",
    "\n",
    "obj = Bunch()\n",
    "called = 0\n",
    "store = Writable(obj)\n",
    "def callback(x):\n",
    "    global called\n",
    "    called += 1\n",
    "store.subscribe(callback)\n",
    "obj.a = 1 #type: ignore\n",
    "store.set(obj)\n",
    "store, called"
   ]
  },
  {
   "cell_type": "code",
   "execution_count": null,
   "metadata": {},
   "outputs": [],
   "source": [
    "#|hide\n",
    "test_eq(called, 2)"
   ]
  },
  {
   "attachments": {},
   "cell_type": "markdown",
   "metadata": {},
   "source": [
    "## Readable Stores\n"
   ]
  },
  {
   "attachments": {},
   "cell_type": "markdown",
   "metadata": {},
   "source": [
    "A `Readable Store` is a `Writable Store` with protected `set` and `update` methods."
   ]
  },
  {
   "cell_type": "code",
   "execution_count": null,
   "metadata": {},
   "outputs": [],
   "source": [
    "class Readable(Writable): \n",
    "    ''' A Readable Store.'''\n",
    "    def set(self, *args, **kwargs): raise Exception(\"Cannot set a Readable Store.\")\n",
    "    def update(self, *args, **kwargs): raise Exception(\"Cannot update a Readable Store.\")"
   ]
  },
  {
   "cell_type": "code",
   "execution_count": null,
   "metadata": {},
   "outputs": [],
   "source": [
    "b = Readable(10)"
   ]
  },
  {
   "cell_type": "code",
   "execution_count": null,
   "metadata": {},
   "outputs": [
    {
     "name": "stdout",
     "output_type": "stream",
     "text": [
      "2: 10\n"
     ]
    }
   ],
   "source": [
    "u = b.subscribe(lambda x: print(\"2:\",x))"
   ]
  },
  {
   "attachments": {},
   "cell_type": "markdown",
   "metadata": {},
   "source": [
    "We can subscribe to our `readable`, but nothing happens, we cannot `set` a `Readable` from the outside."
   ]
  },
  {
   "cell_type": "code",
   "execution_count": null,
   "metadata": {},
   "outputs": [
    {
     "name": "stdout",
     "output_type": "stream",
     "text": [
      "Cannot set a Readable Store.\n"
     ]
    }
   ],
   "source": [
    "try:\n",
    "    b.set(\"bar\") # should fail\n",
    "except Exception as error:\n",
    "  print(error)\n"
   ]
  },
  {
   "cell_type": "code",
   "execution_count": null,
   "metadata": {},
   "outputs": [],
   "source": [
    "#| hide\n",
    "test_fail(lambda: b.set(\"bar\"), contains=\"Cannot set a Readable Store.\")"
   ]
  },
  {
   "cell_type": "markdown",
   "metadata": {},
   "source": [
    "You also can create an empty `Readable Store`. "
   ]
  },
  {
   "cell_type": "code",
   "execution_count": null,
   "metadata": {},
   "outputs": [
    {
     "data": {
      "text/plain": [
       "(Readable(None), [None])"
      ]
     },
     "execution_count": null,
     "metadata": {},
     "output_type": "execute_result"
    }
   ],
   "source": [
    "store = Readable()\n",
    "values = []\n",
    "unsubscribe = store.subscribe(lambda x: values.append(x))\n",
    "unsubscribe()\n",
    "store, values"
   ]
  },
  {
   "cell_type": "code",
   "execution_count": null,
   "metadata": {},
   "outputs": [],
   "source": [
    "#| hide\n",
    "test_eq(values, [None])"
   ]
  },
  {
   "attachments": {},
   "cell_type": "markdown",
   "metadata": {},
   "source": [
    "A `store` that does not change is not useful. A `Readable` is like a `writable` where there is only one \"thing\" from the outside that can change its value. Lets change `writable` to add this \"thing\", which we will call a `Notifier`."
   ]
  },
  {
   "cell_type": "markdown",
   "metadata": {},
   "source": [
    "#### Refactoring the Writable Store"
   ]
  },
  {
   "cell_type": "code",
   "execution_count": null,
   "metadata": {},
   "outputs": [],
   "source": [
    "#|export\n",
    "Notifier = Callable[[Subscriber], Union[Unsubscriber, None]]"
   ]
  },
  {
   "cell_type": "code",
   "execution_count": null,
   "metadata": {},
   "outputs": [],
   "source": [
    "#|exports\n",
    "\n",
    "@patch \n",
    "def __init__(self:Writable,\n",
    "                initial_value: Any = None, # The initial value of the store\n",
    "                start: Notifier = lambda x: None # A Notifier (Optional)\n",
    "                ) -> None:\n",
    "    self.value = initial_value\n",
    "    self.subscribers: Set[Subscriber] = set() #type: ignore\n",
    "    self.stop: Optional[Unsubscriber] = None  #type: ignore\n",
    "    self.start: Notifier = start              #type: ignore\n",
    "\n",
    "\n",
    "@patch\n",
    "def subscribe(self:Writable, callback: Subscriber) -> Unsubscriber:\n",
    "    self.subscribers.add(callback)\n",
    "    if (len(self.subscribers) == 1):\n",
    "        self.stop = self.start(callback) or (lambda: None) #type: ignore\n",
    "    callback(self.value)\n",
    "\n",
    "    def unsubscribe() -> None:\n",
    "        self.subscribers.remove(callback) if callback in self.subscribers else None\n",
    "        if (len(self.subscribers) == 0):\n",
    "            self.stop() if self.stop else None #type: ignore\n",
    "            self.stop = None #type: ignore\n",
    "    return unsubscribe"
   ]
  },
  {
   "cell_type": "code",
   "execution_count": null,
   "metadata": {},
   "outputs": [],
   "source": [
    "# #|exports\n",
    "# class Writable(Store[T]):\n",
    "#     ''' A Writable Store.'''\n",
    "#     def __init__(self:Writable[T], \n",
    "#                  initial_value: T=None, # The initial value of the store\n",
    "#                  start: Notifier=lambda x: None # A Notifier (Optional)\n",
    "#                  ) -> None:\n",
    "#         self.value: T = initial_value\n",
    "#         self.subscribers: Set[Subscriber] = set()\n",
    "#         self.stop: Optional[Unsubscriber] = None\n",
    "#         self.start: Notifier = start\n",
    "\n",
    "#     def subscribe(self, callback: Subscriber) -> Unsubscriber:\n",
    "#         self.subscribers.add(callback)\n",
    "#         if (len(self.subscribers) == 1):\n",
    "#             self.stop = self.start(callback) or (lambda: None)\n",
    "#         callback(self.value)\n",
    "\n",
    "#         def unsubscribe() -> None:\n",
    "#             self.subscribers.remove(callback) if callback in self.subscribers else None\n",
    "#             if (len(self.subscribers) == 0):\n",
    "#                 self.stop() if self.stop else None\n",
    "#                 self.stop = None\n",
    "#         return unsubscribe\n",
    "    \n",
    "#     def set(self, new_value: T) -> None:\n",
    "#         if (safe_not_equal(self.value, new_value)):\n",
    "#             self.value = new_value\n",
    "#             for subscriber in self.subscribers:\n",
    "#                 subscriber(new_value)\n",
    "    \n",
    "#     def update(self, fn: Callable[[T], T]) -> None:\n",
    "#         self.set(fn(self.value))\n",
    "    \n",
    "#     def __len__(self) -> int:\n",
    "#         return len(self.subscribers)"
   ]
  },
  {
   "cell_type": "code",
   "execution_count": null,
   "metadata": {},
   "outputs": [],
   "source": [
    "#| hide\n",
    "# previous tests shoudn't fail\n",
    "count = Writable(0)\n",
    "values = []\n",
    "unsubscribe = count.subscribe(lambda x: values.append(x))\n",
    "count.set(1)\n",
    "count.update(lambda x: x+1)\n",
    "unsubscribe()\n",
    "count.set(3)\n",
    "count.update(lambda x: x+1)\n",
    "test_eq(values, [0,1,2])\n",
    "store = Writable()\n",
    "values = []\n",
    "unsubscribe = store.subscribe(lambda x: values.append(x))\n",
    "unsubscribe()\n",
    "test_eq(values, [None])\n",
    "unsubscribe()\n",
    "test_eq(unsubscribe(), None)\n",
    "obj = Bunch()\n",
    "called = 0\n",
    "store = Writable(obj)\n",
    "def callback(x):\n",
    "    global called\n",
    "    called += 1\n",
    "store.subscribe(callback)\n",
    "obj.a = 1 #type: ignore\n",
    "store.set(obj)\n",
    "test_eq(called, 2)"
   ]
  },
  {
   "cell_type": "markdown",
   "metadata": {},
   "source": [
    "But now, we can start the store with a `Notifier` that asynchronously set the value of the store from the outside."
   ]
  },
  {
   "cell_type": "markdown",
   "metadata": {},
   "source": [
    "Let's test by creating an asynchronous notifier."
   ]
  },
  {
   "cell_type": "code",
   "execution_count": null,
   "metadata": {},
   "outputs": [],
   "source": [
    "from threading import Event, Thread\n",
    "import time"
   ]
  },
  {
   "cell_type": "code",
   "execution_count": null,
   "metadata": {},
   "outputs": [],
   "source": [
    "def every(interval, func, *args):\n",
    "    stopped = Event()\n",
    "    def loop():\n",
    "        while not stopped.wait(interval): # the first call is in `interval` secs\n",
    "            func(*args)\n",
    "    Thread(target=loop).start()    \n",
    "    return stopped.set\n",
    "\n",
    "def start(set): # notifier\n",
    "    count = 0\n",
    "    def incrementCounter():\n",
    "        nonlocal count\n",
    "        count = count +1\n",
    "        set(count)\n",
    "    cancel = every(1, incrementCounter)\n",
    "    return cancel\n",
    "\n",
    "def myset(x):\n",
    "    value = x\n",
    "    print(\"myset:\", value)"
   ]
  },
  {
   "cell_type": "code",
   "execution_count": null,
   "metadata": {},
   "outputs": [
    {
     "name": "stdout",
     "output_type": "stream",
     "text": [
      "myset: 1\n",
      "myset: 2\n",
      "myset: 3\n"
     ]
    }
   ],
   "source": [
    "stop = start(myset)\n",
    "time.sleep(3)\n",
    "stop()"
   ]
  },
  {
   "cell_type": "code",
   "execution_count": null,
   "metadata": {},
   "outputs": [],
   "source": [
    "b = Writable(0, start)"
   ]
  },
  {
   "cell_type": "code",
   "execution_count": null,
   "metadata": {},
   "outputs": [
    {
     "data": {
      "text/plain": [
       "Writable(0)"
      ]
     },
     "execution_count": null,
     "metadata": {},
     "output_type": "execute_result"
    }
   ],
   "source": [
    "b"
   ]
  },
  {
   "cell_type": "code",
   "execution_count": null,
   "metadata": {},
   "outputs": [
    {
     "name": "stdout",
     "output_type": "stream",
     "text": [
      "1: 0\n"
     ]
    }
   ],
   "source": [
    "u1 = b.subscribe(lambda x: print(\"1:\",x))"
   ]
  },
  {
   "cell_type": "code",
   "execution_count": null,
   "metadata": {},
   "outputs": [
    {
     "name": "stdout",
     "output_type": "stream",
     "text": [
      "1: 1\n",
      "1: 2\n",
      "1: 3\n",
      "1: 4\n"
     ]
    }
   ],
   "source": [
    "time.sleep(4)\n",
    "u1()"
   ]
  },
  {
   "cell_type": "code",
   "execution_count": null,
   "metadata": {},
   "outputs": [],
   "source": [
    "#|hide\n",
    "# calls provided subscribe handler\n",
    "called = 0\n",
    "def callback(x):\n",
    "    global called\n",
    "    called += 1\n",
    "    def unsubscribe():\n",
    "        global called\n",
    "        called -= 1\n",
    "    return unsubscribe\n",
    "store = Writable(0, callback)\n",
    "unsubscribe1 = store.subscribe(lambda x:None)\n",
    "test_eq(called, 1)\n",
    "unsubscribe2 = store.subscribe(lambda x:None)\n",
    "test_eq(called,1)\n",
    "unsubscribe1()\n",
    "test_eq(called,1)\n",
    "unsubscribe2()\n",
    "test_eq(called,0)"
   ]
  },
  {
   "cell_type": "code",
   "execution_count": null,
   "metadata": {},
   "outputs": [],
   "source": [
    "#|hide\n",
    "# only calls subscriber once initially, including on resubscriptions\n",
    "num = 0\n",
    "def start(set):\n",
    "    global num\n",
    "    num+=1\n",
    "store = Writable(0, start)\n",
    "count1, count2 = 0,0\n",
    "def callback1(x):\n",
    "    global count1\n",
    "    count1+=1\n",
    "def callback2(x):\n",
    "    global count2\n",
    "    count2+=1\n",
    "store.subscribe(callback1)()\n",
    "test_eq(count1, 1)\n",
    "unsubscribe = store.subscribe(callback2)\n",
    "test_eq(count2, 1)\n",
    "unsubscribe()"
   ]
  },
  {
   "attachments": {},
   "cell_type": "markdown",
   "metadata": {},
   "source": [
    "Nice, it works. Now, let's fix Readable."
   ]
  },
  {
   "cell_type": "markdown",
   "metadata": {},
   "source": [
    "#### Refactoring the Readable Store"
   ]
  },
  {
   "cell_type": "code",
   "execution_count": null,
   "metadata": {},
   "outputs": [],
   "source": [
    "#|exports\n",
    "class Readable(Writable[T]):\n",
    "    ''' A Readable Store.''' \n",
    "    def __init__(self, \n",
    "                 initial_value: T, # The initial value of the store\n",
    "                 start: Notifier # A Notifier \n",
    "                ) -> None:\n",
    "        super().__init__(initial_value, start)\n",
    "    def set(self, *args, **kwargs): raise Exception(\"Cannot set a Readable Store.\")\n",
    "    def update(self, *args, **kwargs): raise Exception(\"Cannot update a Readable Store.\")"
   ]
  },
  {
   "attachments": {},
   "cell_type": "markdown",
   "metadata": {},
   "source": [
    "### A `Readable` in action"
   ]
  },
  {
   "attachments": {},
   "cell_type": "markdown",
   "metadata": {},
   "source": [
    "Now, we need to provide a `Notifier` to create a `Readable` store:"
   ]
  },
  {
   "cell_type": "code",
   "execution_count": null,
   "metadata": {},
   "outputs": [
    {
     "name": "stdout",
     "output_type": "stream",
     "text": [
      "__init__() missing 1 required positional argument: 'start'\n"
     ]
    }
   ],
   "source": [
    "try:\n",
    "    c = Readable(0) # shoud fail\n",
    "except Exception as error:\n",
    "    print(error)"
   ]
  },
  {
   "attachments": {},
   "cell_type": "markdown",
   "metadata": {},
   "source": [
    "\n",
    "::: {.callout-note} The Svelte Store api allow you to create a Readable Store without a Notifier. See discussion [here.](https://github.com/sveltejs/svelte/issues/8300)"
   ]
  },
  {
   "cell_type": "code",
   "execution_count": null,
   "metadata": {},
   "outputs": [],
   "source": [
    "#|hide\n",
    "test_fail(lambda: Readable(0))"
   ]
  },
  {
   "cell_type": "code",
   "execution_count": null,
   "metadata": {},
   "outputs": [
    {
     "data": {
      "text/plain": [
       "Readable(0)"
      ]
     },
     "execution_count": null,
     "metadata": {},
     "output_type": "execute_result"
    }
   ],
   "source": [
    "c = Readable(0, start)\n",
    "c"
   ]
  },
  {
   "attachments": {},
   "cell_type": "markdown",
   "metadata": {},
   "source": [
    "Notice that while there is no subscribers, the `Notifier` is not started."
   ]
  },
  {
   "cell_type": "code",
   "execution_count": null,
   "metadata": {},
   "outputs": [
    {
     "data": {
      "text/plain": [
       "Readable(0)"
      ]
     },
     "execution_count": null,
     "metadata": {},
     "output_type": "execute_result"
    }
   ],
   "source": [
    "time.sleep(3)\n",
    "c"
   ]
  },
  {
   "attachments": {},
   "cell_type": "markdown",
   "metadata": {},
   "source": [
    "The first subscriber starts the `Notifier`."
   ]
  },
  {
   "cell_type": "code",
   "execution_count": null,
   "metadata": {},
   "outputs": [
    {
     "name": "stdout",
     "output_type": "stream",
     "text": [
      "1: 0\n"
     ]
    }
   ],
   "source": [
    "stop = c.subscribe(lambda x: print(\"1:\",x))"
   ]
  },
  {
   "cell_type": "code",
   "execution_count": null,
   "metadata": {},
   "outputs": [],
   "source": [
    "time.sleep(3)\n",
    "stop()"
   ]
  },
  {
   "attachments": {},
   "cell_type": "markdown",
   "metadata": {},
   "source": [
    "## Derived Stores"
   ]
  },
  {
   "attachments": {},
   "cell_type": "markdown",
   "metadata": {},
   "source": [
    "A `Derived Store` takes a store and transforms it into another store."
   ]
  },
  {
   "cell_type": "code",
   "execution_count": null,
   "metadata": {},
   "outputs": [],
   "source": [
    "#|exports\n",
    "class Derived(Writable):\n",
    "    ''' A Derived Store.'''\n",
    "    def __init__(self,\n",
    "                  source: Store, # The source store\n",
    "                  fn: Updater # A function that takes the source store's value and returns a new value\n",
    "                  ) -> None:\n",
    "        self.target = Writable(source.get())\n",
    "        self.start: Notifier = lambda x: self.target.set(fn(x))\n",
    "        self.stop = source.subscribe(self.start)\n",
    "    def get(self) -> T: return self.target.get()\n",
    "    def set(self, *args, **kwargs): raise Exception(\"Cannot set a Derived Store.\")\n",
    "    def update(self, *args, **kwargs): raise Exception(\"Cannot update a Derived Store.\")\n",
    "    def subscribe(self, callback: Subscriber) -> Unsubscriber:\n",
    "        return self.target.subscribe(callback)"
   ]
  },
  {
   "attachments": {},
   "cell_type": "markdown",
   "metadata": {},
   "source": [
    "### A `Derived Store` in action"
   ]
  },
  {
   "cell_type": "code",
   "execution_count": null,
   "metadata": {},
   "outputs": [
    {
     "name": "stdout",
     "output_type": "stream",
     "text": [
      "1: 1\n"
     ]
    }
   ],
   "source": [
    "a = Writable(1)\n",
    "u1 = a.subscribe(lambda x: print(\"1:\",x))"
   ]
  },
  {
   "cell_type": "code",
   "execution_count": null,
   "metadata": {},
   "outputs": [],
   "source": [
    "b = Derived(a, lambda x: x*2)"
   ]
  },
  {
   "cell_type": "code",
   "execution_count": null,
   "metadata": {},
   "outputs": [
    {
     "data": {
      "text/plain": [
       "(Writable(1), Derived(2))"
      ]
     },
     "execution_count": null,
     "metadata": {},
     "output_type": "execute_result"
    }
   ],
   "source": [
    "a,b"
   ]
  },
  {
   "cell_type": "code",
   "execution_count": null,
   "metadata": {},
   "outputs": [
    {
     "data": {
      "text/plain": [
       "(Writable(1), 2)"
      ]
     },
     "execution_count": null,
     "metadata": {},
     "output_type": "execute_result"
    }
   ],
   "source": [
    "a, b.get()"
   ]
  },
  {
   "cell_type": "code",
   "execution_count": null,
   "metadata": {},
   "outputs": [],
   "source": [
    "#|hide\n",
    "test_eq(b.get(), 2)"
   ]
  },
  {
   "cell_type": "code",
   "execution_count": null,
   "metadata": {},
   "outputs": [
    {
     "name": "stdout",
     "output_type": "stream",
     "text": [
      "1: 2\n"
     ]
    },
    {
     "data": {
      "text/plain": [
       "(None, Writable(2), Derived(4))"
      ]
     },
     "execution_count": null,
     "metadata": {},
     "output_type": "execute_result"
    }
   ],
   "source": [
    "a.set(2), a,b"
   ]
  },
  {
   "cell_type": "code",
   "execution_count": null,
   "metadata": {},
   "outputs": [],
   "source": [
    "#|hide\n",
    "test_eq(b.get(), 4)"
   ]
  },
  {
   "cell_type": "code",
   "execution_count": null,
   "metadata": {},
   "outputs": [
    {
     "name": "stdout",
     "output_type": "stream",
     "text": [
      "2: 4\n"
     ]
    }
   ],
   "source": [
    "u1 = b.subscribe(lambda x: print(\"2:\",x))"
   ]
  },
  {
   "cell_type": "code",
   "execution_count": null,
   "metadata": {},
   "outputs": [
    {
     "name": "stdout",
     "output_type": "stream",
     "text": [
      "2: 84\n",
      "1: 42\n"
     ]
    }
   ],
   "source": [
    "a.set(42)"
   ]
  },
  {
   "cell_type": "code",
   "execution_count": null,
   "metadata": {},
   "outputs": [
    {
     "data": {
      "text/plain": [
       "Writable({'name': 'John', 'age': 42})"
      ]
     },
     "execution_count": null,
     "metadata": {},
     "output_type": "execute_result"
    }
   ],
   "source": [
    "user = Writable({\"name\": \"John\", \"age\": 42})\n",
    "user"
   ]
  },
  {
   "cell_type": "code",
   "execution_count": null,
   "metadata": {},
   "outputs": [
    {
     "data": {
      "text/plain": [
       "Writable({'name': 'John', 'age': 21})"
      ]
     },
     "execution_count": null,
     "metadata": {},
     "output_type": "execute_result"
    }
   ],
   "source": [
    "user.update(lambda x: x | {\"age\": 21})\n",
    "user"
   ]
  },
  {
   "cell_type": "code",
   "execution_count": null,
   "metadata": {},
   "outputs": [
    {
     "name": "stdout",
     "output_type": "stream",
     "text": [
      "user_subscriber_1: {'name': 'John', 'age': 21}\n"
     ]
    }
   ],
   "source": [
    "u1 = user.subscribe(lambda x: print(\"user_subscriber_1:\",x))"
   ]
  },
  {
   "cell_type": "code",
   "execution_count": null,
   "metadata": {},
   "outputs": [
    {
     "name": "stdout",
     "output_type": "stream",
     "text": [
      "user_subscriber_1: {'name': 'John', 'age': 42}\n"
     ]
    }
   ],
   "source": [
    "user.update(lambda x: x | {\"age\": 42})"
   ]
  },
  {
   "cell_type": "code",
   "execution_count": null,
   "metadata": {},
   "outputs": [
    {
     "data": {
      "text/plain": [
       "Derived('John')"
      ]
     },
     "execution_count": null,
     "metadata": {},
     "output_type": "execute_result"
    }
   ],
   "source": [
    "name = Derived(user, lambda x: x[\"name\"])\n",
    "name"
   ]
  },
  {
   "cell_type": "code",
   "execution_count": null,
   "metadata": {},
   "outputs": [
    {
     "name": "stdout",
     "output_type": "stream",
     "text": [
      "name_subscriber_1: John\n"
     ]
    }
   ],
   "source": [
    "u2 = name.subscribe(lambda x: print(\"name_subscriber_1:\",x))"
   ]
  },
  {
   "cell_type": "code",
   "execution_count": null,
   "metadata": {},
   "outputs": [
    {
     "name": "stdout",
     "output_type": "stream",
     "text": [
      "user_subscriber_1: {'name': 'John', 'age': 56}\n"
     ]
    }
   ],
   "source": [
    "user.update(lambda x: x | {\"age\": 56})"
   ]
  },
  {
   "cell_type": "code",
   "execution_count": null,
   "metadata": {},
   "outputs": [
    {
     "name": "stdout",
     "output_type": "stream",
     "text": [
      "name_subscriber_1: Fred\n",
      "user_subscriber_1: {'name': 'Fred', 'age': 56}\n"
     ]
    }
   ],
   "source": [
    "user.update(lambda x: x | {\"name\": \"Fred\"})"
   ]
  },
  {
   "attachments": {},
   "cell_type": "markdown",
   "metadata": {},
   "source": [
    "Svelte Derived Stores allow us to use derive from several source stores, let's refactor."
   ]
  },
  {
   "cell_type": "markdown",
   "metadata": {},
   "source": [
    "#### Refactoring Derived Stores"
   ]
  },
  {
   "cell_type": "code",
   "execution_count": null,
   "metadata": {},
   "outputs": [],
   "source": [
    "#|exports\n",
    "@patch # does not like type annotations\n",
    "def __init__(self:Derived, \n",
    "             s: Union[Store, list[Store]],\n",
    "             fn: Callable,\n",
    "             ) -> None:\n",
    "    isStore = isinstance(s, Store)\n",
    "    isList = isinstance(s, list) and all([isinstance(x, Store) for x in s])\n",
    "    if not isStore and not isList: raise Exception(\"s must be a Store or a list of Stores\")\n",
    "    self.sources:list[Store] = [s] if isStore else s # type: ignore\n",
    "    self.fn = fn # type: ignore\n",
    "    self.target = Writable(None)\n",
    "    self.unsubscribers = [(lambda s=s: s.subscribe(self._update))(s) for s in self.sources] # type: ignore\n",
    "\n",
    "@patch\n",
    "def _update(self:Derived, x): # ignore the new value and just refresh the target from sources\n",
    "    values = [(lambda s=s: s.get())(s) for s in self.sources] # type: ignore\n",
    "    self.target.set(self.fn(*values)) # type: ignore"
   ]
  },
  {
   "cell_type": "code",
   "execution_count": null,
   "metadata": {},
   "outputs": [],
   "source": [
    "a:Store = Writable('foo')\n",
    "b = Writable('bar')\n",
    "d = Derived([a,b], lambda a,b: f\"{a}_{b}\") # type: ignore"
   ]
  },
  {
   "cell_type": "code",
   "execution_count": null,
   "metadata": {},
   "outputs": [],
   "source": [
    "test_eq(d.get(), \"foo_bar\")"
   ]
  },
  {
   "cell_type": "code",
   "execution_count": null,
   "metadata": {},
   "outputs": [
    {
     "name": "stdout",
     "output_type": "stream",
     "text": [
      "d1: foo_bar\n"
     ]
    }
   ],
   "source": [
    "u1 = d.subscribe(lambda x: print(\"d1:\",x))"
   ]
  },
  {
   "cell_type": "code",
   "execution_count": null,
   "metadata": {},
   "outputs": [
    {
     "name": "stdout",
     "output_type": "stream",
     "text": [
      "d1: fonzie_bar\n"
     ]
    }
   ],
   "source": [
    "a.set('fonzie')"
   ]
  },
  {
   "cell_type": "code",
   "execution_count": null,
   "metadata": {},
   "outputs": [],
   "source": [
    "test_eq(d.get(), \"fonzie_bar\")"
   ]
  },
  {
   "cell_type": "code",
   "execution_count": null,
   "metadata": {},
   "outputs": [
    {
     "name": "stdout",
     "output_type": "stream",
     "text": [
      "d1: fonzie_bach\n"
     ]
    }
   ],
   "source": [
    "b.set('bach')"
   ]
  },
  {
   "cell_type": "code",
   "execution_count": null,
   "metadata": {},
   "outputs": [],
   "source": [
    "test_eq(d.get(), \"fonzie_bach\")"
   ]
  },
  {
   "cell_type": "code",
   "execution_count": null,
   "metadata": {},
   "outputs": [],
   "source": [
    "#|hide\n",
    "nbdev.nbdev_export()"
   ]
  }
 ],
 "metadata": {
  "kernelspec": {
   "display_name": "python3",
   "language": "python",
   "name": "python3"
  }
 },
 "nbformat": 4,
 "nbformat_minor": 2
}
