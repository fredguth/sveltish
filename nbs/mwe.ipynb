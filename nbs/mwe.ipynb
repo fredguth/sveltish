{
 "cells": [
  {
   "cell_type": "code",
   "execution_count": 1,
   "metadata": {},
   "outputs": [],
   "source": [
    "from threading import Event, Thread\n",
    "import time"
   ]
  },
  {
   "cell_type": "code",
   "execution_count": 2,
   "metadata": {},
   "outputs": [],
   "source": [
    "\n",
    "def start(set): # the start function is the publisher\n",
    "    stopped = Event()\n",
    "    def loop(): # needs to be in a separate thread\n",
    "        while not stopped.wait(1): # in seconds\n",
    "            set(time.localtime())\n",
    "    Thread(target=loop).start()    \n",
    "    return stopped.set"
   ]
  },
  {
   "cell_type": "code",
   "execution_count": 3,
   "metadata": {},
   "outputs": [],
   "source": [
    "from sveltish.stores import Readable, Derived"
   ]
  },
  {
   "cell_type": "code",
   "execution_count": 4,
   "metadata": {},
   "outputs": [
    {
     "data": {
      "text/plain": [
       "Readable(time.struct_time(tm_year=2023, tm_mon=2, tm_mday=24, tm_hour=11, tm_min=54, tm_sec=39, tm_wday=4, tm_yday=55, tm_isdst=0))"
      ]
     },
     "execution_count": 4,
     "metadata": {},
     "output_type": "execute_result"
    }
   ],
   "source": [
    "now = Readable(time.localtime(), start)\n",
    "now"
   ]
  },
  {
   "cell_type": "code",
   "execution_count": 5,
   "metadata": {},
   "outputs": [
    {
     "name": "stdout",
     "output_type": "stream",
     "text": [
      "11:54:39\r"
     ]
    }
   ],
   "source": [
    "OhPleaseStop = now.subscribe(lambda x: print(time.strftime(f\"%H:%M:%S\", x), end=\"\\r\"))\n",
    "OhPleaseStop()"
   ]
  },
  {
   "cell_type": "code",
   "execution_count": 6,
   "metadata": {},
   "outputs": [],
   "source": [
    "elapsed = Derived(now, lambda x: time.strftime(f\"%H:%M:%S\", x))"
   ]
  },
  {
   "cell_type": "code",
   "execution_count": 7,
   "metadata": {},
   "outputs": [],
   "source": [
    "# sources = [now]\n",
    "# values = []\n",
    "# fn = lambda x: time.strftime(f\"%H:%M:%S\", x)"
   ]
  },
  {
   "cell_type": "code",
   "execution_count": 8,
   "metadata": {},
   "outputs": [],
   "source": [
    "# unsubscribers = [(lambda s=s: s.subscribe(_update))(s) for s in sources]"
   ]
  },
  {
   "cell_type": "code",
   "execution_count": 9,
   "metadata": {},
   "outputs": [],
   "source": [
    "# def _update(x):\n",
    "#     global values\n",
    "#     values = [(lambda s=s: s.get())(s) for s in sources]\n",
    "#     print('updating values:', values)"
   ]
  },
  {
   "cell_type": "code",
   "execution_count": 10,
   "metadata": {},
   "outputs": [
    {
     "name": "stdout",
     "output_type": "stream",
     "text": [
      "updating\n"
     ]
    }
   ],
   "source": [
    "# unsubscribers = []\n",
    "# for s in sources:\n",
    "#     u = s.subscribe(_update)\n",
    "#     unsubscribers.append(u)"
   ]
  },
  {
   "cell_type": "code",
   "execution_count": 11,
   "metadata": {},
   "outputs": [],
   "source": [
    "# for u in unsubscribers:\n",
    "#     u()"
   ]
  },
  {
   "cell_type": "code",
   "execution_count": null,
   "metadata": {},
   "outputs": [],
   "source": []
  }
 ],
 "metadata": {
  "kernelspec": {
   "display_name": "nbdev-test",
   "language": "python",
   "name": "python3"
  },
  "language_info": {
   "codemirror_mode": {
    "name": "ipython",
    "version": 3
   },
   "file_extension": ".py",
   "mimetype": "text/x-python",
   "name": "python",
   "nbconvert_exporter": "python",
   "pygments_lexer": "ipython3",
   "version": "3.9.16"
  },
  "orig_nbformat": 4
 },
 "nbformat": 4,
 "nbformat_minor": 2
}
