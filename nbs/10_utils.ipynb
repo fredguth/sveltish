{
 "cells": [
  {
   "attachments": {},
   "cell_type": "markdown",
   "metadata": {},
   "source": [
    "# utils\n",
    "\n",
    "> Utility functions"
   ]
  },
  {
   "cell_type": "code",
   "execution_count": null,
   "metadata": {},
   "outputs": [],
   "source": [
    "#| default_exp utils"
   ]
  },
  {
   "cell_type": "code",
   "execution_count": null,
   "metadata": {},
   "outputs": [],
   "source": [
    "#| hide\n",
    "from fastcore.test import test_eq"
   ]
  },
  {
   "cell_type": "code",
   "execution_count": null,
   "metadata": {},
   "outputs": [],
   "source": [
    "#| export\n",
    "def noop(*args, **kwargs): return None"
   ]
  },
  {
   "cell_type": "code",
   "execution_count": null,
   "metadata": {},
   "outputs": [],
   "source": [
    "#|hide\n",
    "test_eq(noop(), None)\n",
    "test_eq(noop(1), None)\n",
    "test_eq(noop(1,2), None)\n",
    "test_eq(noop(1,2,x=3), None)\n",
    "test_eq(noop((1,2)), None)\n",
    "test_eq(noop({'a':1}, x=3), None)\n",
    "test_eq(noop(lambda x: x), None)\n",
    "test_eq(noop(noop), None)"
   ]
  },
  {
   "cell_type": "code",
   "execution_count": null,
   "metadata": {},
   "outputs": [],
   "source": [
    "#| export\n",
    "def identity(x): return x"
   ]
  },
  {
   "cell_type": "code",
   "execution_count": null,
   "metadata": {},
   "outputs": [],
   "source": [
    "#|hide\n",
    "test_eq(identity(1), 1)\n",
    "test_eq(identity('a'), 'a')\n",
    "test_eq(identity((1,2)), (1,2))\n",
    "test_eq(identity({'a':1}), {'a':1})\n",
    "test_eq(identity(noop), noop)"
   ]
  },
  {
   "cell_type": "code",
   "execution_count": null,
   "metadata": {},
   "outputs": [],
   "source": [
    "#| export\n",
    "def safe_not_equal(a,b):\n",
    "    \"Check if `a` is not equal to `b`\"\n",
    "    primitive = (int, str, bool, frozenset, tuple)\n",
    "    return (a != b) if isinstance(a, primitive) else True"
   ]
  },
  {
   "cell_type": "code",
   "execution_count": null,
   "metadata": {},
   "outputs": [],
   "source": [
    "#|hide\n",
    "test_eq(safe_not_equal(1,2), True)\n",
    "test_eq(safe_not_equal(0,False), False)\n",
    "test_eq(safe_not_equal(object(), object()), True)\n",
    "\n",
    "test_eq(safe_not_equal({\"a\":1}, {\"a\":1}), True)"
   ]
  },
  {
   "cell_type": "code",
   "execution_count": null,
   "metadata": {},
   "outputs": [],
   "source": [
    "#|export\n",
    "from functools import reduce\n",
    "from typing import Callable, TypeVar,  Generic, Union, Optional, Set, Protocol, Any\n",
    "from typing_extensions import Annotated"
   ]
  },
  {
   "cell_type": "code",
   "execution_count": null,
   "metadata": {},
   "outputs": [],
   "source": [
    "#| export\n",
    "def compose( \n",
    "    *functions # functions to be composed (left to right)\n",
    ") -> Callable[[Any], Any]:  # composed function\n",
    "    \"\"\"Compose multiple functions left to right.\\n\n",
    "    Examples:\\n\n",
    "        compose()(x) = x \n",
    "        compose(f)(x) = f(x) \n",
    "        compose(f, g)(x) = g(f(x)) \n",
    "        ... \n",
    "    \"\"\"    \n",
    "    if (len(functions)==0): return lambda x: x # compose()(x) = x\n",
    "    def pack(x): return x if type(x) is tuple else (x,)\n",
    "    def call(f, g):\n",
    "       return lambda *x: g(*pack(f(*pack(x)))) # call in reverse order\n",
    "    return reduce(call, functions)  # composed function"
   ]
  },
  {
   "cell_type": "code",
   "execution_count": null,
   "metadata": {},
   "outputs": [],
   "source": [
    "#|hide\n",
    "add2 = lambda x: x+2\n",
    "mul5 = lambda x: x*5\n",
    "add = lambda x,y: x+y\n",
    "test_eq(compose()(1), 1) # compose()(x) == x\n",
    "test_eq(compose(add2)(1), add2(1)) # compose(f)(x) == f(x)\n",
    "test_eq(compose(mul5)(1), mul5(1))\n",
    "test_eq(compose(add)(4,2), add(4,2)) # compose(f, g)(x) == g(f(x))\n",
    "test_eq(compose(add2, mul5)(1), mul5(add2(1)))\n",
    "dummy = lambda a,b: f'{a}_{b}'\n",
    "up = lambda a: a.upper()\n",
    "test_eq(compose(dummy, up)('foo', 'bar'), up(dummy('foo', 'bar')))"
   ]
  },
  {
   "cell_type": "code",
   "execution_count": null,
   "metadata": {},
   "outputs": [],
   "source": [
    "#|hide\n",
    "#`retrieve_name` not used in the current version of the library. So, I am not exporting:\n",
    "import inspect"
   ]
  },
  {
   "cell_type": "code",
   "execution_count": null,
   "metadata": {},
   "outputs": [],
   "source": [
    "#|hide\n",
    "def retrieve_name(var): # From: https://stackoverflow.com/a/40536047/1344369\n",
    "        \"\"\"\n",
    "        Gets the name of var. Does it from the out most frame inner-wards.\n",
    "        :param var: variable to get name from.\n",
    "        :return: string\n",
    "        \"\"\"\n",
    "        for fi in reversed(inspect.stack()):\n",
    "            names = [var_name for var_name, var_val in fi.frame.f_locals.items() if var_val is var]\n",
    "            if len(names) > 0:\n",
    "                return names[0]"
   ]
  },
  {
   "cell_type": "code",
   "execution_count": null,
   "metadata": {},
   "outputs": [],
   "source": [
    "#|hide\n",
    "a = list([1,2,3])\n",
    "retrieve_name(a)\n",
    "test_eq(retrieve_name(a), 'a')\n",
    "b = lambda x: x\n",
    "test_eq(retrieve_name(b), 'b')"
   ]
  },
  {
   "cell_type": "code",
   "execution_count": null,
   "metadata": {},
   "outputs": [],
   "source": [
    "#| export\n",
    "class Bunch(dict):\n",
    "    __init__     = lambda self, **kw: setattr(self, '__dict__', kw) #type: ignore\n",
    "    __repr__     = lambda self: f'{self.__class__.__name__}({self.__dict__})'\n",
    "    __contains__ = lambda self, k: k in self.__dict__ or hasattr(self, k)\n",
    "    __bool__     = lambda self: bool(self.__dict__)\n",
    "    __hash__     = lambda self: sum([hash(v) if not isinstance(v, (list, set, dict)) else len(v) for v in self.__dict__.values()]) #type: ignore\n",
    "    asDict       = lambda self: self.__dict__\n",
    "    asTuple      = lambda self: tuple(self.__dict__.values())\n",
    "\n",
    "class NamedBunch(Bunch):\n",
    "    def __init__(self, name, **kw):\n",
    "        super().__init__(**kw)\n",
    "        self.__class__.__name__ = name"
   ]
  },
  {
   "cell_type": "code",
   "execution_count": null,
   "metadata": {},
   "outputs": [],
   "source": [
    "#| hide\n",
    "import nbdev; nbdev.nbdev_export()"
   ]
  }
 ],
 "metadata": {
  "kernelspec": {
   "display_name": "python3",
   "language": "python",
   "name": "python3"
  }
 },
 "nbformat": 4,
 "nbformat_minor": 4
}
