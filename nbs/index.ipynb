{
 "cells": [
  {
   "attachments": {},
   "cell_type": "markdown",
   "metadata": {},
   "source": [
    "# Sveltish\n",
    "> A Python package that ~~kind of~~ implements Svelte Stores.\n"
   ]
  },
  {
   "attachments": {},
   "cell_type": "markdown",
   "metadata": {},
   "source": [
    "`Svelte Stores` are one of the secret weapons of the [Svelte framework](https://svelte.dev/) (the recently voted [most loved web framework](https://insights.stackoverflow.com/survey/2021#section-most-loved-dreaded-and-wanted-web-frameworks)). \n",
    "\n",
    "Stores allow easy [reactive programming](https://en.wikipedia.org/wiki/Reactive_programming) by presenting an [Observer pattern](https://en.wikipedia.org/wiki/Observer_pattern) that is as simple as necessary, but not simpler."
   ]
  },
  {
   "cell_type": "markdown",
   "metadata": {},
   "source": [
    "## Install"
   ]
  },
  {
   "attachments": {},
   "cell_type": "markdown",
   "metadata": {},
   "source": [
    "```sh\n",
    "pip install sveltish\n",
    "```"
   ]
  },
  {
   "cell_type": "markdown",
   "metadata": {},
   "source": [
    "## How to use"
   ]
  },
  {
   "attachments": {},
   "cell_type": "markdown",
   "metadata": {},
   "source": [
    "Sometimes, you'll have values that need to be accessed by multiple unrelated objects.\n",
    "\n",
    "For that, you can use `stores`.  It is a very simple implementation (around 100 lines of code) of the Observer/Observable pattern. \n",
    "\n",
    "A store is simply an object with a `subscribe` method that allows interested parties to be notified when its value changes. "
   ]
  },
  {
   "attachments": {},
   "cell_type": "markdown",
   "metadata": {},
   "source": [
    "#### __Writable Stores__ "
   ]
  },
  {
   "cell_type": "code",
   "execution_count": null,
   "metadata": {},
   "outputs": [],
   "source": [
    "from sveltish.stores import writable"
   ]
  },
  {
   "cell_type": "code",
   "execution_count": null,
   "metadata": {},
   "outputs": [],
   "source": [
    "#|hide\n",
    "from nbdev import show_doc\n",
    "from fastcore.test import test_eq, test_fail"
   ]
  },
  {
   "cell_type": "code",
   "execution_count": null,
   "metadata": {},
   "outputs": [
    {
     "data": {
      "text/markdown": [
       "---\n",
       "\n",
       "[source](https://github.com/fredguth/sveltish/blob/main/sveltish/stores.py#LNone){target=\"_blank\" style=\"float:right; font-size:smaller\"}\n",
       "\n",
       "### writable\n",
       "\n",
       ">      writable (value:~T=None, start:Callable[[Callable[[~T],NoneType]],Optiona\n",
       ">                l[Callable[[],NoneType]]]=<function noop>)\n",
       "\n",
       "Creates a new Writable Store (A Writable factory).\n",
       "\n",
       "|    | **Type** | **Default** | **Details** |\n",
       "| -- | -------- | ----------- | ----------- |\n",
       "| value | T | None | initial value of the store |\n",
       "| start | Notifier | noop | Optional Notifier, a function called when the first subscriber is added |\n",
       "| **Returns** | **Writable[T]** |  | **Writable Store** |"
      ],
      "text/plain": [
       "---\n",
       "\n",
       "[source](https://github.com/fredguth/sveltish/blob/main/sveltish/stores.py#LNone){target=\"_blank\" style=\"float:right; font-size:smaller\"}\n",
       "\n",
       "### writable\n",
       "\n",
       ">      writable (value:~T=None, start:Callable[[Callable[[~T],NoneType]],Optiona\n",
       ">                l[Callable[[],NoneType]]]=<function noop>)\n",
       "\n",
       "Creates a new Writable Store (A Writable factory).\n",
       "\n",
       "|    | **Type** | **Default** | **Details** |\n",
       "| -- | -------- | ----------- | ----------- |\n",
       "| value | T | None | initial value of the store |\n",
       "| start | Notifier | noop | Optional Notifier, a function called when the first subscriber is added |\n",
       "| **Returns** | **Writable[T]** |  | **Writable Store** |"
      ]
     },
     "execution_count": null,
     "metadata": {},
     "output_type": "execute_result"
    }
   ],
   "source": [
    "#|hide\n",
    "show_doc(writable)"
   ]
  },
  {
   "cell_type": "code",
   "execution_count": null,
   "metadata": {},
   "outputs": [
    {
     "name": "stdout",
     "output_type": "stream",
     "text": [
      "[0]\n"
     ]
    }
   ],
   "source": [
    "count = writable(0)\n",
    "history = []  # logging for testing\n",
    "# subscribe returns an unsubscriber\n",
    "def record(x): \n",
    "    history.append(x)\n",
    "    print(history)\n",
    "stop = count.subscribe(record)\n",
    "\n",
    "test_eq(history, [0])"
   ]
  },
  {
   "attachments": {},
   "cell_type": "markdown",
   "metadata": {},
   "source": [
    "We just created a `count` store. Its value can be accessed via a `callback` we pass in the `count.subscribe` method:"
   ]
  },
  {
   "cell_type": "markdown",
   "metadata": {},
   "source": [
    "A __Writable__ can be set from the outside. When it happens, all its subscribers will react."
   ]
  },
  {
   "cell_type": "code",
   "execution_count": null,
   "metadata": {},
   "outputs": [
    {
     "name": "stdout",
     "output_type": "stream",
     "text": [
      "[0, 3]\n",
      "[0, 3, 4]\n",
      "[0, 3, 4, 3]\n",
      "[0, 3, 4, 3, 2]\n",
      "[0, 3, 4, 3, 2, 0]\n",
      "[0, 3, 4, 3, 2, 0, 42]\n"
     ]
    }
   ],
   "source": [
    "def increment(): count.update(lambda x: x + 1)\n",
    "def decrement(): count.update(lambda x: x - 1)\n",
    "def reset(): count.set(0)\n",
    "\n",
    "count.set(3)\n",
    "increment()\n",
    "decrement()\n",
    "decrement()\n",
    "reset()\n",
    "count.set(42)\n",
    "\n",
    "test_eq(history, [0, 3, 4, 3, 2, 0, 42])"
   ]
  },
  {
   "attachments": {},
   "cell_type": "markdown",
   "metadata": {},
   "source": [
    "The `unsubscriber`, in this example the `stop` function, stops the notifications to the `subscriber`. "
   ]
  },
  {
   "cell_type": "code",
   "execution_count": null,
   "metadata": {},
   "outputs": [
    {
     "data": {
      "text/plain": [
       "w$int <0>:22"
      ]
     },
     "execution_count": null,
     "metadata": {},
     "output_type": "execute_result"
    }
   ],
   "source": [
    "stop()\n",
    "reset()\n",
    "count.set(22)\n",
    "test_eq(history, [0, 3, 4, 3, 2, 0, 42])\n",
    "count"
   ]
  },
  {
   "attachments": {},
   "cell_type": "markdown",
   "metadata": {},
   "source": [
    "Notice that you can still change the `store` but there was no print message this time.  There was no observer listening. \n",
    "\n",
    ":::{.callout-note}\n",
    "`Observer`, `Subscriber` and `Callback` are used as synomyms here.\n",
    ":::"
   ]
  },
  {
   "cell_type": "markdown",
   "metadata": {},
   "source": [
    "When we subscribe new callbacks, they will be promptly informed of the current state of the `store`."
   ]
  },
  {
   "cell_type": "code",
   "execution_count": null,
   "metadata": {},
   "outputs": [
    {
     "name": "stdout",
     "output_type": "stream",
     "text": [
      "Count is now 22\n",
      "double of count is 44\n"
     ]
    }
   ],
   "source": [
    "stop  = count.subscribe(lambda x: print(f\"Count is now {x}\"))\n",
    "stop2 = count.subscribe(lambda x: print(f\"double of count is {2*x}\"))"
   ]
  },
  {
   "cell_type": "code",
   "execution_count": null,
   "metadata": {},
   "outputs": [
    {
     "name": "stdout",
     "output_type": "stream",
     "text": [
      "Count is now 0\n",
      "double of count is 0\n"
     ]
    }
   ],
   "source": [
    "reset()"
   ]
  },
  {
   "cell_type": "code",
   "execution_count": null,
   "metadata": {},
   "outputs": [],
   "source": [
    "stop()\n",
    "stop2()"
   ]
  },
  {
   "cell_type": "markdown",
   "metadata": {},
   "source": [
    "You can create an empty `Writable Store`."
   ]
  },
  {
   "cell_type": "code",
   "execution_count": null,
   "metadata": {},
   "outputs": [],
   "source": [
    "store = writable()\n",
    "history = []\n",
    "unsubscribe = store.subscribe(lambda x: history.append(x))\n",
    "unsubscribe()\n",
    "test_eq(history, [None])"
   ]
  },
  {
   "attachments": {},
   "cell_type": "markdown",
   "metadata": {},
   "source": [
    "If you try to unsubscribe twice, it won't break.  It just does nothing the second time... and in the third time... and..."
   ]
  },
  {
   "cell_type": "code",
   "execution_count": null,
   "metadata": {},
   "outputs": [
    {
     "data": {
      "text/plain": [
       "(None, None, None)"
      ]
     },
     "execution_count": null,
     "metadata": {},
     "output_type": "execute_result"
    }
   ],
   "source": [
    "unsubscribe(), unsubscribe(), unsubscribe()"
   ]
  },
  {
   "cell_type": "markdown",
   "metadata": {},
   "source": [
    "Stores assume mutable objects. \n",
    "\n",
    "::: {.callout-note}\n",
    "In Python everythong is an object.  Here we are calling an object something that is not a primitive (eg. int, bool, etc)\n",
    ":::"
   ]
  },
  {
   "cell_type": "code",
   "execution_count": null,
   "metadata": {},
   "outputs": [],
   "source": [
    "class Bunch:\n",
    "    __init__ = lambda self, **kw: setattr(self, '__dict__', kw)\n",
    "\n",
    "obj = Bunch()\n",
    "called = 0\n",
    "store = writable(obj)\n",
    "def callback(x):\n",
    "    global called\n",
    "    called += 1\n",
    "stop = store.subscribe(callback)"
   ]
  },
  {
   "cell_type": "code",
   "execution_count": null,
   "metadata": {},
   "outputs": [],
   "source": [
    "test_eq(called, 1)\n",
    "obj.a = 1 #type: ignore\n",
    "store.set(obj)\n",
    "test_eq(called, 2)"
   ]
  },
  {
   "attachments": {},
   "cell_type": "markdown",
   "metadata": {},
   "source": [
    "#### __Readable Stores__"
   ]
  },
  {
   "attachments": {},
   "cell_type": "markdown",
   "metadata": {},
   "source": [
    "However... It is clear that not all stores should be writable by whoever has a reference to them. Many times you want a single `publisher` of change in store that is only consumed (`subscribed`) by many other objects. For those cases, we have readable stores.\n",
    "\n",
    ":::{.callout-note}\n",
    "The `Publisher Subscriber (PubSub)` pattern is a variant of the `Observable/Observer` pattern.\n",
    ":::"
   ]
  },
  {
   "cell_type": "code",
   "execution_count": null,
   "metadata": {},
   "outputs": [],
   "source": [
    "from sveltish.stores import readable"
   ]
  },
  {
   "cell_type": "code",
   "execution_count": null,
   "metadata": {},
   "outputs": [
    {
     "data": {
      "text/markdown": [
       "---\n",
       "\n",
       "[source](https://github.com/fredguth/sveltish/blob/main/sveltish/stores.py#LNone){target=\"_blank\" style=\"float:right; font-size:smaller\"}\n",
       "\n",
       "### readable\n",
       "\n",
       ">      readable (value:~T, start:Callable[[Callable[[~T],NoneType]],Optional[Cal\n",
       ">                lable[[],NoneType]]])\n",
       "\n",
       "Creates a new Readable Store (A Readable factory).\n",
       "\n",
       "|    | **Type** | **Details** |\n",
       "| -- | -------- | ----------- |\n",
       "| value | T | initial value of the store |\n",
       "| start | Notifier | function called when the first subscriber is added |\n",
       "| **Returns** | **Readable[T]** | **Readable Store** |"
      ],
      "text/plain": [
       "---\n",
       "\n",
       "[source](https://github.com/fredguth/sveltish/blob/main/sveltish/stores.py#LNone){target=\"_blank\" style=\"float:right; font-size:smaller\"}\n",
       "\n",
       "### readable\n",
       "\n",
       ">      readable (value:~T, start:Callable[[Callable[[~T],NoneType]],Optional[Cal\n",
       ">                lable[[],NoneType]]])\n",
       "\n",
       "Creates a new Readable Store (A Readable factory).\n",
       "\n",
       "|    | **Type** | **Details** |\n",
       "| -- | -------- | ----------- |\n",
       "| value | T | initial value of the store |\n",
       "| start | Notifier | function called when the first subscriber is added |\n",
       "| **Returns** | **Readable[T]** | **Readable Store** |"
      ]
     },
     "execution_count": null,
     "metadata": {},
     "output_type": "execute_result"
    }
   ],
   "source": [
    "#|hide\n",
    "show_doc(readable)"
   ]
  },
  {
   "attachments": {},
   "cell_type": "markdown",
   "metadata": {},
   "source": [
    "A Readable store without a `start` function is a constant value and has no meaning for us. Therefore, `start` is a required argument."
   ]
  },
  {
   "cell_type": "code",
   "execution_count": null,
   "metadata": {},
   "outputs": [
    {
     "name": "stdout",
     "output_type": "stream",
     "text": [
      "readable() missing 1 required positional argument: 'start'\n"
     ]
    }
   ],
   "source": [
    "try:\n",
    "    c = readable(0) # shoud fail\n",
    "except Exception as error:\n",
    "    print(error)\n",
    "\n",
    "test_fail(lambda: readable(0))"
   ]
  },
  {
   "cell_type": "code",
   "execution_count": null,
   "metadata": {},
   "outputs": [],
   "source": [
    "class Publisher:\n",
    "    def __init__(self): self.set = lambda x: None\n",
    "    def set_set(self, set): \n",
    "        self.set = set\n",
    "        return lambda: None\n",
    "    def use_set(self, value): self.set(value)"
   ]
  },
  {
   "cell_type": "code",
   "execution_count": null,
   "metadata": {},
   "outputs": [
    {
     "data": {
      "text/plain": [
       "r$int <0>:0"
      ]
     },
     "execution_count": null,
     "metadata": {},
     "output_type": "execute_result"
    }
   ],
   "source": [
    "p = Publisher()\n",
    "reader = readable(0, p.set_set)\n",
    "reader"
   ]
  },
  {
   "attachments": {},
   "cell_type": "markdown",
   "metadata": {},
   "source": [
    "Ths store only starts updating after the first subscriber. Here, the publisher does not change the store."
   ]
  },
  {
   "cell_type": "code",
   "execution_count": null,
   "metadata": {},
   "outputs": [
    {
     "data": {
      "text/plain": [
       "(None, r$int <0>:0)"
      ]
     },
     "execution_count": null,
     "metadata": {},
     "output_type": "execute_result"
    }
   ],
   "source": [
    "p.use_set(1), reader"
   ]
  },
  {
   "cell_type": "code",
   "execution_count": null,
   "metadata": {},
   "outputs": [
    {
     "name": "stdout",
     "output_type": "stream",
     "text": [
      "reader is now 0\n"
     ]
    }
   ],
   "source": [
    "stop = reader.subscribe(lambda x: print(f\"reader is now {x}\"))"
   ]
  },
  {
   "cell_type": "code",
   "execution_count": null,
   "metadata": {},
   "outputs": [
    {
     "name": "stdout",
     "output_type": "stream",
     "text": [
      "reader is now 2\n"
     ]
    }
   ],
   "source": [
    "p.use_set(2)"
   ]
  },
  {
   "cell_type": "code",
   "execution_count": null,
   "metadata": {},
   "outputs": [],
   "source": [
    "stop()"
   ]
  },
  {
   "attachments": {},
   "cell_type": "markdown",
   "metadata": {},
   "source": [
    "Another example of Readable Store usage:"
   ]
  },
  {
   "cell_type": "code",
   "execution_count": null,
   "metadata": {},
   "outputs": [],
   "source": [
    "from threading import Event, Thread\n",
    "import time"
   ]
  },
  {
   "cell_type": "code",
   "execution_count": null,
   "metadata": {},
   "outputs": [],
   "source": [
    "def start(set): # the start function is the publisher\n",
    "    stopped = Event()\n",
    "    def loop(): # needs to be in a separate thread\n",
    "        while not stopped.wait(1): # in seconds\n",
    "            set(time.localtime())\n",
    "    Thread(target=loop).start()    \n",
    "    return stopped.set"
   ]
  },
  {
   "cell_type": "code",
   "execution_count": null,
   "metadata": {},
   "outputs": [
    {
     "data": {
      "text/plain": [
       "r$struct_time <0>:time.struct_time(tm_year=2023, tm_mon=3, tm_mday=8, tm_hour=10, tm_min=1, tm_sec=59, tm_wday=2, tm_yday=67, tm_isdst=0)"
      ]
     },
     "execution_count": null,
     "metadata": {},
     "output_type": "execute_result"
    }
   ],
   "source": [
    "now = readable(time.localtime(), start)\n",
    "now"
   ]
  },
  {
   "cell_type": "markdown",
   "metadata": {},
   "source": [
    ":::{.callout-note}\n",
    "The `loop` needs to be in its own thread, otherwise the function would never return and we would wait forever.\n",
    ":::"
   ]
  },
  {
   "cell_type": "markdown",
   "metadata": {},
   "source": [
    "While there is no subscriber, the Readable will not be updated."
   ]
  },
  {
   "cell_type": "code",
   "execution_count": null,
   "metadata": {},
   "outputs": [
    {
     "data": {
      "text/plain": [
       "r$struct_time <0>:time.struct_time(tm_year=2023, tm_mon=3, tm_mday=8, tm_hour=10, tm_min=1, tm_sec=59, tm_wday=2, tm_yday=67, tm_isdst=0)"
      ]
     },
     "execution_count": null,
     "metadata": {},
     "output_type": "execute_result"
    }
   ],
   "source": [
    "now"
   ]
  },
  {
   "cell_type": "code",
   "execution_count": null,
   "metadata": {},
   "outputs": [
    {
     "name": "stdout",
     "output_type": "stream",
     "text": [
      "10:01:59\r"
     ]
    }
   ],
   "source": [
    "OhPleaseStop = now.subscribe(lambda x: print(time.strftime(f\"%H:%M:%S\", x), end=\"\\r\"))"
   ]
  },
  {
   "cell_type": "code",
   "execution_count": null,
   "metadata": {},
   "outputs": [
    {
     "name": "stdout",
     "output_type": "stream",
     "text": [
      "10:02:02\r"
     ]
    }
   ],
   "source": [
    "time.sleep(2)\n",
    "OhPleaseStop()"
   ]
  },
  {
   "attachments": {},
   "cell_type": "markdown",
   "metadata": {},
   "source": [
    "::: {.callout-note} \n",
    "\n",
    "The Svelte Store api allow you to create a Readable Store without a Notifier. See discussion [here.](https://github.com/sveltejs/svelte/issues/8300)\n",
    "\n",
    ":::"
   ]
  },
  {
   "cell_type": "markdown",
   "metadata": {},
   "source": [
    "#### __Derived Stores__"
   ]
  },
  {
   "attachments": {},
   "cell_type": "markdown",
   "metadata": {},
   "source": [
    "A `Derived Store` stores a value based on the value of another store."
   ]
  },
  {
   "cell_type": "code",
   "execution_count": null,
   "metadata": {},
   "outputs": [],
   "source": [
    "from sveltish.stores import derived"
   ]
  },
  {
   "cell_type": "code",
   "execution_count": null,
   "metadata": {},
   "outputs": [
    {
     "data": {
      "text/markdown": [
       "---\n",
       "\n",
       "[source](https://github.com/fredguth/sveltish/blob/main/sveltish/stores.py#LNone){target=\"_blank\" style=\"float:right; font-size:smaller\"}\n",
       "\n",
       "### derived\n",
       "\n",
       "\n",
       "\n",
       "Creates a new Derived Store (A Derived factory)."
      ],
      "text/plain": [
       "---\n",
       "\n",
       "[source](https://github.com/fredguth/sveltish/blob/main/sveltish/stores.py#LNone){target=\"_blank\" style=\"float:right; font-size:smaller\"}\n",
       "\n",
       "### derived\n",
       "\n",
       "\n",
       "\n",
       "Creates a new Derived Store (A Derived factory)."
      ]
     },
     "execution_count": null,
     "metadata": {},
     "output_type": "execute_result"
    }
   ],
   "source": [
    "#|hide\n",
    "show_doc(derived)"
   ]
  },
  {
   "attachments": {},
   "cell_type": "markdown",
   "metadata": {},
   "source": [
    "For example:"
   ]
  },
  {
   "cell_type": "code",
   "execution_count": null,
   "metadata": {},
   "outputs": [
    {
     "name": "stdout",
     "output_type": "stream",
     "text": [
      "count is 1\n",
      "double is 2\n"
     ]
    }
   ],
   "source": [
    "count = writable(1)\n",
    "stopCount = count.subscribe(lambda x: print(f\"count is {x}\"))\n",
    "double = derived(count, lambda x: x * 2)\n",
    "stopDouble = double.subscribe(lambda x: print(f\"double is {x}\"))\n",
    "test_eq(double.get(), 2*count.get())"
   ]
  },
  {
   "cell_type": "code",
   "execution_count": null,
   "metadata": {},
   "outputs": [
    {
     "name": "stdout",
     "output_type": "stream",
     "text": [
      "double is 4\n",
      "count is 2\n"
     ]
    }
   ],
   "source": [
    "count.set(2)\n",
    "test_eq(double.get(), 4)"
   ]
  },
  {
   "cell_type": "code",
   "execution_count": null,
   "metadata": {},
   "outputs": [
    {
     "data": {
      "text/plain": [
       "(None, None)"
      ]
     },
     "execution_count": null,
     "metadata": {},
     "output_type": "execute_result"
    }
   ],
   "source": [
    "stopCount(), stopDouble()"
   ]
  },
  {
   "cell_type": "markdown",
   "metadata": {},
   "source": [
    "Building on our previous example, we can create a store that derives the elapsed time since the original store was started."
   ]
  },
  {
   "cell_type": "code",
   "execution_count": null,
   "metadata": {},
   "outputs": [],
   "source": [
    "elapsing = None\n",
    "def calc_elapsed(now):\n",
    "    global elapsing\n",
    "    if not elapsing: \n",
    "        elapsing = now\n",
    "    return time.mktime(now) - time.mktime(elapsing)"
   ]
  },
  {
   "cell_type": "code",
   "execution_count": null,
   "metadata": {},
   "outputs": [
    {
     "data": {
      "text/plain": [
       "r$struct_time <0>:time.struct_time(tm_year=2023, tm_mon=3, tm_mday=8, tm_hour=10, tm_min=2, tm_sec=2, tm_wday=2, tm_yday=67, tm_isdst=0)"
      ]
     },
     "execution_count": null,
     "metadata": {},
     "output_type": "execute_result"
    }
   ],
   "source": [
    "now"
   ]
  },
  {
   "cell_type": "code",
   "execution_count": null,
   "metadata": {},
   "outputs": [
    {
     "data": {
      "text/plain": [
       "r$float <0>:0.0"
      ]
     },
     "execution_count": null,
     "metadata": {},
     "output_type": "execute_result"
    }
   ],
   "source": [
    "elapsed = derived(now, lambda x: calc_elapsed(x))\n",
    "elapsed"
   ]
  },
  {
   "cell_type": "code",
   "execution_count": null,
   "metadata": {},
   "outputs": [
    {
     "name": "stdout",
     "output_type": "stream",
     "text": [
      "Elapsed time of source store: 0.0 seconds.\r"
     ]
    }
   ],
   "source": [
    "stopElapsed = elapsed.subscribe(lambda x: print(f\"Elapsed time of source store: {x} seconds.\", end=\"\\r\"))"
   ]
  },
  {
   "cell_type": "code",
   "execution_count": null,
   "metadata": {},
   "outputs": [
    {
     "name": "stdout",
     "output_type": "stream",
     "text": [
      "Elapsed time of source store: 1.0 seconds.\r"
     ]
    }
   ],
   "source": [
    "time.sleep(1)\n",
    "stopElapsed()"
   ]
  },
  {
   "attachments": {},
   "cell_type": "markdown",
   "metadata": {},
   "source": [
    "Derived stores allow us to transform the value of a store. In RxPy they are called `operators`. You can build several operators like: `filter`, `fold`, `map`, `zip`...\n",
    "\n",
    "Let's build a custom `filter` operator:"
   ]
  },
  {
   "cell_type": "code",
   "execution_count": null,
   "metadata": {},
   "outputs": [
    {
     "name": "stdout",
     "output_type": "stream",
     "text": [
      "User: {'name': 'John', 'age': 32}\n"
     ]
    }
   ],
   "source": [
    "user = writable({\"name\": \"John\", \"age\": 32})\n",
    "stopLog = user.subscribe(lambda x: print(f\"User: {x}\"))"
   ]
  },
  {
   "cell_type": "code",
   "execution_count": null,
   "metadata": {},
   "outputs": [
    {
     "name": "stdout",
     "output_type": "stream",
     "text": [
      "Name: John\n"
     ]
    }
   ],
   "source": [
    "name = derived(user, lambda x: x[\"name\"])\n",
    "stopName = name.subscribe(lambda x: print(f\"Name: {x}\"))"
   ]
  },
  {
   "cell_type": "code",
   "execution_count": null,
   "metadata": {},
   "outputs": [
    {
     "name": "stdout",
     "output_type": "stream",
     "text": [
      "User: {'name': 'John', 'age': 45}\n"
     ]
    }
   ],
   "source": [
    "user.update(lambda x: x | {\"age\": 45})"
   ]
  },
  {
   "attachments": {},
   "cell_type": "markdown",
   "metadata": {},
   "source": [
    "Updating the age does not trigger the `name subscriber`. Let's see what happens when we update the name."
   ]
  },
  {
   "cell_type": "code",
   "execution_count": null,
   "metadata": {},
   "outputs": [
    {
     "name": "stdout",
     "output_type": "stream",
     "text": [
      "User: {'name': 'Fred', 'age': 45}\n",
      "Name: Fred\n"
     ]
    }
   ],
   "source": [
    "user.update(lambda x: x | {\"name\": \"Fred\"})"
   ]
  },
  {
   "cell_type": "markdown",
   "metadata": {},
   "source": [
    "Only changes to the name of the user triggers the `name` subscriber."
   ]
  },
  {
   "cell_type": "code",
   "execution_count": null,
   "metadata": {},
   "outputs": [
    {
     "data": {
      "text/plain": [
       "(None, None)"
      ]
     },
     "execution_count": null,
     "metadata": {},
     "output_type": "execute_result"
    }
   ],
   "source": [
    "stopName(), stopLog()"
   ]
  },
  {
   "attachments": {},
   "cell_type": "markdown",
   "metadata": {},
   "source": [
    "Another cool thing about Derived Stores is that you can derive from a list of stores. Let's build a `zip` operator."
   ]
  },
  {
   "cell_type": "code",
   "execution_count": null,
   "metadata": {},
   "outputs": [
    {
     "data": {
      "text/plain": [
       "(w$list <0>:[1, 2, 3, 4], w$list <0>:[5, 6, 7, 8])"
      ]
     },
     "execution_count": null,
     "metadata": {},
     "output_type": "execute_result"
    }
   ],
   "source": [
    "a = writable([1,2,3,4])\n",
    "b = writable([5,6,7,8])\n",
    "a,b"
   ]
  },
  {
   "cell_type": "code",
   "execution_count": null,
   "metadata": {},
   "outputs": [],
   "source": [
    "zipper = derived([a,b], lambda a,b: list(zip(a,b)))"
   ]
  },
  {
   "cell_type": "code",
   "execution_count": null,
   "metadata": {},
   "outputs": [],
   "source": [
    "test_eq(zipper.get(), [(1, 5), (2, 6), (3, 7), (4, 8)])"
   ]
  },
  {
   "attachments": {},
   "cell_type": "markdown",
   "metadata": {},
   "source": [
    "While `zipper` has no subscribers, it keeps the initial value, it is `stopped`.  "
   ]
  },
  {
   "cell_type": "code",
   "execution_count": null,
   "metadata": {},
   "outputs": [],
   "source": [
    "a.set([4,3,2,1])\n",
    "test_eq(zipper.get(), [(1, 5), (2, 6), (3, 7), (4, 8)])"
   ]
  },
  {
   "attachments": {},
   "cell_type": "markdown",
   "metadata": {},
   "source": [
    "A subscription `starts` zipper and it will start to react to the changes of the stores."
   ]
  },
  {
   "cell_type": "code",
   "execution_count": null,
   "metadata": {},
   "outputs": [],
   "source": [
    "u = zipper.subscribe(lambda x: None)\n",
    "test_eq(zipper.get(), [(4, 5), (3, 6), (2, 7), (1, 8)])"
   ]
  },
  {
   "cell_type": "code",
   "execution_count": null,
   "metadata": {},
   "outputs": [],
   "source": [
    "b.set([8,7,6,5])\n",
    "test_eq(zipper.get(), [(4, 8), (3, 7), (2, 6), (1, 5)])"
   ]
  },
  {
   "cell_type": "code",
   "execution_count": null,
   "metadata": {},
   "outputs": [],
   "source": [
    "u()"
   ]
  },
  {
   "cell_type": "markdown",
   "metadata": {},
   "source": [
    "#### Store composition with pipes"
   ]
  },
  {
   "cell_type": "code",
   "execution_count": null,
   "metadata": {},
   "outputs": [
    {
     "data": {
      "text/plain": [
       "r$int <0>:4"
      ]
     },
     "execution_count": null,
     "metadata": {},
     "output_type": "execute_result"
    }
   ],
   "source": [
    "writable(1).pipe(lambda x: x + 1).pipe(lambda x: x * 2)"
   ]
  },
  {
   "cell_type": "code",
   "execution_count": null,
   "metadata": {},
   "outputs": [
    {
     "data": {
      "text/plain": [
       "r$int <0>:4"
      ]
     },
     "execution_count": null,
     "metadata": {},
     "output_type": "execute_result"
    }
   ],
   "source": [
    "writable(1).pipe(lambda x: x+1, lambda x: x*2)"
   ]
  },
  {
   "cell_type": "code",
   "execution_count": null,
   "metadata": {},
   "outputs": [
    {
     "data": {
      "text/plain": [
       "r$int <0>:4"
      ]
     },
     "execution_count": null,
     "metadata": {},
     "output_type": "execute_result"
    }
   ],
   "source": [
    "writable(1) | (lambda x: x+1) | (lambda x: x*2) "
   ]
  },
  {
   "cell_type": "code",
   "execution_count": null,
   "metadata": {},
   "outputs": [
    {
     "name": "stdout",
     "output_type": "stream",
     "text": [
      "u5: 8\n"
     ]
    }
   ],
   "source": [
    "a = writable(1)\n",
    "u5 = (a \n",
    "      | (lambda x: x*2) \n",
    "      | (lambda x: x*2) \n",
    "      | (lambda x: x*2)).subscribe(lambda x: print(f\"u5: {x}\"))"
   ]
  },
  {
   "cell_type": "code",
   "execution_count": null,
   "metadata": {},
   "outputs": [
    {
     "name": "stdout",
     "output_type": "stream",
     "text": [
      "u5: 16\n"
     ]
    }
   ],
   "source": [
    "a.set(2)"
   ]
  },
  {
   "cell_type": "code",
   "execution_count": null,
   "metadata": {},
   "outputs": [],
   "source": [
    "u5()"
   ]
  },
  {
   "cell_type": "markdown",
   "metadata": {},
   "source": [
    "## Missing features\n",
    "\n",
    "You may have noticed that along the way we had always to subscribe and then had to remember to unsubscribe when we were done. This is a bit of a nuisance. \n",
    "Svelte has a compiler that provide some [syntatic sugar](https://svelte.dev/tutorial/auto-subscriptions) to make this easier. They call it `auto-subscriptions`.\n",
    "\n",
    "`Sveltish` does not have `auto-subscriptions` yet. But if you have a nice idea how to implement it, please let me know."
   ]
  }
 ],
 "metadata": {
  "kernelspec": {
   "display_name": "python3",
   "language": "python",
   "name": "python3"
  }
 },
 "nbformat": 4,
 "nbformat_minor": 4
}
